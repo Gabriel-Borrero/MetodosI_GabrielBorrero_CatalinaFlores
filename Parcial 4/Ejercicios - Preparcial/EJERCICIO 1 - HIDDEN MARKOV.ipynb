{
 "cells": [
  {
   "cell_type": "code",
   "execution_count": null,
   "metadata": {},
   "outputs": [],
   "source": [
    "import numpy as np\n",
    "import numpy as np\n",
    "import matplotlib.pyplot as plt\n",
    "from itertools import permutations\n",
    "from itertools import combinations\n",
    "from itertools import combinations_with_replacement"
   ]
  },
  {
   "cell_type": "code",
   "execution_count": null,
   "metadata": {},
   "outputs": [],
   "source": [
    "matriz_transicion=np.array([[0.8, 0.2],[0.2,0.8]])\n",
    "matriz_emision=np.array([[0.5, 0.9],[0.5,0.1]])\n"
   ]
  },
  {
   "cell_type": "markdown",
   "metadata": {},
   "source": [
    "A)"
   ]
  },
  {
   "cell_type": "code",
   "execution_count": null,
   "metadata": {},
   "outputs": [],
   "source": [
    "probabilidad_priori=np.array([0.2, 0.8])\n",
    "probabilidad_priori_justa=probabilidad_priori[0]\n",
    "probabilidad_priori_sesgada=probabilidad_priori[1]"
   ]
  },
  {
   "cell_type": "markdown",
   "metadata": {},
   "source": [
    "B)"
   ]
  },
  {
   "cell_type": "code",
   "execution_count": null,
   "metadata": {},
   "outputs": [],
   "source": [
    "def generar_secuencias_ocultas(estados, longitud):\n",
    "    if longitud == 1:\n",
    "        return [[estado] for estado in estados]\n",
    "    \n",
    "    secuencias = []\n",
    "    for secuencia_anterior in generar_secuencias_ocultas(estados, longitud - 1):\n",
    "        for estado in estados:\n",
    "            nueva_secuencia = secuencia_anterior + [estado]\n",
    "            secuencias.append(nueva_secuencia)\n",
    "    return secuencias\n",
    "\n",
    "def calcular_probabilidad(pi, T, secuencia_oculta):\n",
    "    probabilidad = pi[estados_ocultos.index(secuencia_oculta[0])]\n",
    "    for t in range(1, len(secuencia_oculta)):\n",
    "        probabilidad *= T[estados_ocultos.index(secuencia_oculta[t - 1])][estados_ocultos.index(secuencia_oculta[t])]\n",
    "    return probabilidad\n",
    "\n",
    "estados_ocultos = ['J', 'B']\n",
    "\n",
    "longitud_secuencia = 8\n",
    "posibles_secuencias_ocultas = generar_secuencias_ocultas(estados_ocultos, longitud_secuencia)\n",
    "\n",
    "probabilidad_maxima = 0.0\n",
    "secuencia_maxima = None\n",
    "\n",
    "for secuencia_oculta in posibles_secuencias_ocultas:\n",
    "    probabilidad = calcular_probabilidad(probabilidad_priori, matriz_transicion, secuencia_oculta)\n",
    "    \n",
    "    if probabilidad > probabilidad_maxima:\n",
    "        probabilidad_maxima = probabilidad\n",
    "        secuencia_maxima = secuencia_oculta\n",
    "\n",
    "print(\"Secuencia oculta más probable:\", secuencia_maxima)\n",
    "print(\"Probabilidad asociada:\", probabilidad_maxima)"
   ]
  },
  {
   "cell_type": "code",
   "execution_count": null,
   "metadata": {},
   "outputs": [],
   "source": [
    "# Definimos estados y priors\n",
    "States = np.array([0,1]) # Deben ser enteros \n",
    "Prior =  np.array([0.2,0.8])"
   ]
  },
  {
   "cell_type": "code",
   "execution_count": null,
   "metadata": {},
   "outputs": [],
   "source": [
    "# Definimos matrices de emisión y transmision\n",
    "T = np.array([[0.8, 0.2],[0.2,0.8]])\n",
    "\n",
    "E = np.array([[0.5, 0.9],[0.5,0.1]])\n",
    "\n",
    "\n",
    "#np.sum(T,axis=0)"
   ]
  },
  {
   "cell_type": "code",
   "execution_count": null,
   "metadata": {},
   "outputs": [],
   "source": [
    "DictH = {0:'Justa',1:'Sesgada'} \n"
   ]
  },
  {
   "cell_type": "code",
   "execution_count": null,
   "metadata": {},
   "outputs": [],
   "source": [
    "DictO = {0:'Cara',1:'Sello'}\n"
   ]
  },
  {
   "cell_type": "code",
   "execution_count": null,
   "metadata": {},
   "outputs": [],
   "source": [
    "\n",
    "Obs = np.array([1, 0, 0, 0, 1, 0, 1, 0])"
   ]
  },
  {
   "cell_type": "code",
   "execution_count": null,
   "metadata": {},
   "outputs": [],
   "source": [
    "def GetStates(States,N):\n",
    "    \n",
    "    CStates = list( combinations_with_replacement(States,N) )\n",
    "    \n",
    "    print(CStates)\n",
    "    \n",
    "    Permu = []\n",
    "    \n",
    "    for it in CStates:\n",
    "        p = list(permutations(it,N))\n",
    "       # print(p)\n",
    "        \n",
    "        for i in p:\n",
    "            if i not in Permu:\n",
    "                Permu.append(i)\n",
    "                \n",
    "    return np.array(Permu)\n",
    "HiddenStates = GetStates(States,8)\n",
    "HiddenStates"
   ]
  },
  {
   "cell_type": "code",
   "execution_count": null,
   "metadata": {},
   "outputs": [],
   "source": [
    "def GetProb(T,E,Obs,State,Prior):\n",
    "    \n",
    "    n = len(Obs)\n",
    "    p = 1.\n",
    "    \n",
    "    p *= Prior[State[0]]\n",
    "    \n",
    "    # Matriz de transicion\n",
    "    for i in range(n-1):\n",
    "        p *= T[ State[i+1], State[i]  ]\n",
    "        \n",
    "    for i in range(n):\n",
    "        p *= E[ Obs[i], State[i] ]\n",
    "        \n",
    "    return p"
   ]
  },
  {
   "cell_type": "code",
   "execution_count": null,
   "metadata": {},
   "outputs": [],
   "source": [
    "P = np.zeros(HiddenStates.shape[0], dtype=np.float64)"
   ]
  },
  {
   "cell_type": "code",
   "execution_count": null,
   "metadata": {},
   "outputs": [],
   "source": [
    "for i in range(P.shape[0]):\n",
    "    P[i] = GetProb(T,E,Obs,HiddenStates[i],Prior)\n",
    "    \n",
    "print(P)"
   ]
  },
  {
   "cell_type": "markdown",
   "metadata": {},
   "source": [
    "C)"
   ]
  },
  {
   "cell_type": "code",
   "execution_count": null,
   "metadata": {},
   "outputs": [],
   "source": [
    "ii = np.where( P == np.amax(P))\n",
    "print(HiddenStates[ii])\n",
    "for i in HiddenStates[ii]:\n",
    "    print(i)\n",
    "print(max(P))"
   ]
  },
  {
   "cell_type": "code",
   "execution_count": null,
   "metadata": {},
   "outputs": [],
   "source": [
    "np.sum(P)"
   ]
  },
  {
   "cell_type": "code",
   "execution_count": null,
   "metadata": {},
   "outputs": [],
   "source": [
    "ObsStates = GetStates([0,1],8)"
   ]
  },
  {
   "cell_type": "code",
   "execution_count": null,
   "metadata": {},
   "outputs": [],
   "source": [
    "Nobs = ObsStates.shape[0]\n",
    "\n",
    "PObs = np.zeros(Nobs)\n",
    "\n",
    "for j in range(Nobs):\n",
    "    \n",
    "    dim = HiddenStates.shape[0]\n",
    "    P = np.zeros(dim)\n",
    "    \n",
    "    for i in range(dim):\n",
    "        P[i] = GetProb(T,E,ObsStates[j],HiddenStates[i],Prior)\n",
    "        \n",
    "    PObs[j] = np.sum(P)\n",
    "\n"
   ]
  },
  {
   "cell_type": "code",
   "execution_count": null,
   "metadata": {},
   "outputs": [],
   "source": [
    "plt.plot(P)\n",
    "plt.grid(True)"
   ]
  },
  {
   "cell_type": "markdown",
   "metadata": {},
   "source": [
    "D)"
   ]
  },
  {
   "cell_type": "code",
   "execution_count": null,
   "metadata": {},
   "outputs": [],
   "source": [
    "print(np.sum(PObs))\n",
    "print(\"El resultado se acerca de sobremanera al resultado teórico de 1\")"
   ]
  },
  {
   "cell_type": "markdown",
   "metadata": {},
   "source": [
    "E) ¿Depende el resultado de la probabilidad a-priori?"
   ]
  },
  {
   "cell_type": "markdown",
   "metadata": {},
   "source": [
    "la probabilidad a-priori afecta de manera directa al resultado, ya que la probabilidad a priori claramente favorece a la moneda sesgada, ya que para la moneda justa la probabilidad a-priori es 0.2 y para la moneda sesgada la probabilidad a-priori es 0.8.\n",
    "De esta manera, 0.8 es mucho mayor que 0.2, con lo cual la la probabilidad a-priori sí influye sobre el resultado, en este caso, favoreciendo a la moneda sesgada."
   ]
  }
 ],
 "metadata": {
  "kernelspec": {
   "display_name": "Python 3",
   "language": "python",
   "name": "python3"
  },
  "language_info": {
   "codemirror_mode": {
    "name": "ipython",
    "version": 3
   },
   "file_extension": ".py",
   "mimetype": "text/x-python",
   "name": "python",
   "nbconvert_exporter": "python",
   "pygments_lexer": "ipython3",
   "version": "3.7.7"
  }
 },
 "nbformat": 4,
 "nbformat_minor": 2
}
