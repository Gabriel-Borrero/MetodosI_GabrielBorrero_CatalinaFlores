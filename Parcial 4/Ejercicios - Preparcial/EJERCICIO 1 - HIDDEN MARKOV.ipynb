{
 "cells": [
  {
   "cell_type": "code",
   "execution_count": 27,
   "metadata": {},
   "outputs": [],
   "source": [
    "import numpy as np\n",
    "import numpy as np\n",
    "import matplotlib.pyplot as plt\n",
    "from itertools import permutations\n",
    "from itertools import combinations\n",
    "from itertools import combinations_with_replacement"
   ]
  },
  {
   "cell_type": "code",
   "execution_count": 3,
   "metadata": {},
   "outputs": [],
   "source": [
    "matriz_transicion=np.array([[0.8, 0.2],[0.2,0.8]])\n",
    "matriz_emision=np.array([[0.5, 0.9],[0.5,0.1]])\n"
   ]
  },
  {
   "cell_type": "markdown",
   "metadata": {},
   "source": [
    "A)"
   ]
  },
  {
   "cell_type": "code",
   "execution_count": 4,
   "metadata": {},
   "outputs": [],
   "source": [
    "probabilidad_priori=np.array([0.2, 0.8])\n",
    "probabilidad_priori_justa=probabilidad_priori[0]\n",
    "probabilidad_priori_sesgada=probabilidad_priori[1]"
   ]
  },
  {
   "cell_type": "markdown",
   "metadata": {},
   "source": [
    "B)"
   ]
  },
  {
   "cell_type": "code",
   "execution_count": 18,
   "metadata": {},
   "outputs": [
    {
     "name": "stdout",
     "output_type": "stream",
     "text": [
      "Secuencia oculta más probable: ['B', 'B', 'B', 'B', 'B', 'B', 'B', 'B']\n",
      "Probabilidad asociada: 0.1677721600000001\n",
      "En este código, B representa la moneda sesgada (biased)\n"
     ]
    }
   ],
   "source": [
    "def generar_secuencias_ocultas(estados, longitud):\n",
    "    if longitud == 1:\n",
    "        return [[estado] for estado in estados]\n",
    "    \n",
    "    secuencias = []\n",
    "    for secuencia_anterior in generar_secuencias_ocultas(estados, longitud - 1):\n",
    "        for estado in estados:\n",
    "            nueva_secuencia = secuencia_anterior + [estado]\n",
    "            secuencias.append(nueva_secuencia)\n",
    "    return secuencias\n",
    "\n",
    "def calcular_probabilidad(pi, T, secuencia_oculta):\n",
    "    probabilidad = pi[estados_ocultos.index(secuencia_oculta[0])]\n",
    "    for t in range(1, len(secuencia_oculta)):\n",
    "        probabilidad *= T[estados_ocultos.index(secuencia_oculta[t - 1])][estados_ocultos.index(secuencia_oculta[t])]\n",
    "    return probabilidad\n",
    "\n",
    "estados_ocultos = ['J', 'B']\n",
    "\n",
    "longitud_secuencia = 8\n",
    "posibles_secuencias_ocultas = generar_secuencias_ocultas(estados_ocultos, longitud_secuencia)\n",
    "\n",
    "probabilidad_maxima = 0.0\n",
    "secuencia_maxima = None\n",
    "\n",
    "for secuencia_oculta in posibles_secuencias_ocultas:\n",
    "    probabilidad = calcular_probabilidad(probabilidad_priori, matriz_transicion, secuencia_oculta)\n",
    "    \n",
    "    if probabilidad > probabilidad_maxima:\n",
    "        probabilidad_maxima = probabilidad\n",
    "        secuencia_maxima = secuencia_oculta\n",
    "\n",
    "print(\"Secuencia oculta más probable:\", secuencia_maxima)\n",
    "print(\"Probabilidad asociada:\", probabilidad_maxima)\n",
    "print(\"En este código, B representa la moneda sesgada (biased)\")"
   ]
  },
  {
   "cell_type": "code",
   "execution_count": 6,
   "metadata": {},
   "outputs": [],
   "source": [
    "# Definimos estados y priors\n",
    "States = np.array([0,1]) # Deben ser enteros \n",
    "Prior =  np.array([0.2,0.8])"
   ]
  },
  {
   "cell_type": "code",
   "execution_count": 7,
   "metadata": {},
   "outputs": [],
   "source": [
    "# Definimos matrices de emisión y transmision\n",
    "T = np.array([[0.8, 0.2],[0.2,0.8]])\n",
    "\n",
    "E = np.array([[0.5, 0.9],[0.5,0.1]])\n",
    "\n",
    "\n",
    "#np.sum(T,axis=0)"
   ]
  },
  {
   "cell_type": "code",
   "execution_count": 8,
   "metadata": {},
   "outputs": [],
   "source": [
    "DictH = {0:'Justa',1:'Sesgada'} \n"
   ]
  },
  {
   "cell_type": "code",
   "execution_count": 9,
   "metadata": {},
   "outputs": [],
   "source": [
    "DictO = {0:'Cara',1:'Sello'}\n"
   ]
  },
  {
   "cell_type": "code",
   "execution_count": 10,
   "metadata": {},
   "outputs": [],
   "source": [
    "\n",
    "Obs = np.array([1, 0, 0, 0, 1, 0, 1, 0])"
   ]
  },
  {
   "cell_type": "code",
   "execution_count": 11,
   "metadata": {},
   "outputs": [
    {
     "name": "stdout",
     "output_type": "stream",
     "text": [
      "[(0, 0, 0, 0, 0, 0, 0, 0), (0, 0, 0, 0, 0, 0, 0, 1), (0, 0, 0, 0, 0, 0, 1, 1), (0, 0, 0, 0, 0, 1, 1, 1), (0, 0, 0, 0, 1, 1, 1, 1), (0, 0, 0, 1, 1, 1, 1, 1), (0, 0, 1, 1, 1, 1, 1, 1), (0, 1, 1, 1, 1, 1, 1, 1), (1, 1, 1, 1, 1, 1, 1, 1)]\n"
     ]
    },
    {
     "data": {
      "text/plain": [
       "array([[0, 0, 0, ..., 0, 0, 0],\n",
       "       [0, 0, 0, ..., 0, 0, 1],\n",
       "       [0, 0, 0, ..., 0, 1, 0],\n",
       "       ...,\n",
       "       [1, 1, 1, ..., 1, 0, 1],\n",
       "       [1, 1, 1, ..., 1, 1, 0],\n",
       "       [1, 1, 1, ..., 1, 1, 1]])"
      ]
     },
     "execution_count": 11,
     "metadata": {},
     "output_type": "execute_result"
    }
   ],
   "source": [
    "def GetStates(States,N):\n",
    "    \n",
    "    CStates = list( combinations_with_replacement(States,N) )\n",
    "    \n",
    "    print(CStates)\n",
    "    \n",
    "    Permu = []\n",
    "    \n",
    "    for it in CStates:\n",
    "        p = list(permutations(it,N))\n",
    "       # print(p)\n",
    "        \n",
    "        for i in p:\n",
    "            if i not in Permu:\n",
    "                Permu.append(i)\n",
    "                \n",
    "    return np.array(Permu)\n",
    "HiddenStates = GetStates(States,8)\n",
    "HiddenStates"
   ]
  },
  {
   "cell_type": "code",
   "execution_count": 12,
   "metadata": {},
   "outputs": [],
   "source": [
    "def GetProb(T,E,Obs,State,Prior):\n",
    "    \n",
    "    n = len(Obs)\n",
    "    p = 1.\n",
    "    \n",
    "    p *= Prior[State[0]]\n",
    "    \n",
    "    # Matriz de transicion\n",
    "    for i in range(n-1):\n",
    "        p *= T[ State[i+1], State[i]  ]\n",
    "        \n",
    "    for i in range(n):\n",
    "        p *= E[ Obs[i], State[i] ]\n",
    "        \n",
    "    return p"
   ]
  },
  {
   "cell_type": "code",
   "execution_count": 13,
   "metadata": {},
   "outputs": [],
   "source": [
    "P = np.zeros(HiddenStates.shape[0], dtype=np.float64)"
   ]
  },
  {
   "cell_type": "code",
   "execution_count": 14,
   "metadata": {},
   "outputs": [
    {
     "name": "stdout",
     "output_type": "stream",
     "text": [
      "[1.63840000e-04 7.37280000e-05 2.04800000e-06 1.84320000e-05\n",
      " 2.04800000e-06 1.84320000e-05 1.84320000e-05 1.84320000e-05\n",
      " 3.27680000e-05 1.47456000e-05 8.29440000e-06 3.68640000e-06\n",
      " 9.21600000e-07 2.56000000e-08 3.68640000e-06 8.29440000e-06\n",
      " 2.30400000e-07 2.07360000e-06 3.68640000e-06 8.29440000e-06\n",
      " 2.30400000e-07 2.07360000e-06 2.30400000e-07 3.31776000e-05\n",
      " 8.29440000e-06 2.30400000e-07 2.07360000e-06 2.30400000e-07\n",
      " 2.07360000e-06 3.31776000e-05 1.47456000e-05 4.09600000e-07\n",
      " 3.68640000e-06 4.09600000e-07 3.68640000e-06 3.68640000e-06\n",
      " 5.89824000e-05 2.65420800e-05 1.84320000e-07 1.65888000e-06\n",
      " 7.37280000e-07 1.65888000e-06 9.33120000e-07 4.14720000e-07\n",
      " 1.65888000e-06 4.60800000e-08 6.63552000e-06 1.65888000e-06\n",
      " 9.33120000e-07 4.14720000e-07 1.03680000e-07 2.88000000e-09\n",
      " 4.14720000e-07 1.49299200e-05 4.14720000e-07 3.73248000e-06\n",
      " 6.63552000e-06 1.65888000e-06 9.33120000e-07 4.14720000e-07\n",
      " 1.03680000e-07 2.88000000e-09 4.14720000e-07 9.33120000e-07\n",
      " 2.59200000e-08 2.33280000e-07 4.14720000e-07 1.49299200e-05\n",
      " 4.14720000e-07 3.73248000e-06 4.14720000e-07 5.97196800e-05\n",
      " 2.94912000e-06 1.65888000e-06 7.37280000e-07 1.84320000e-07\n",
      " 5.12000000e-09 7.37280000e-07 1.65888000e-06 4.60800000e-08\n",
      " 4.14720000e-07 7.37280000e-07 1.65888000e-06 4.60800000e-08\n",
      " 4.14720000e-07 4.60800000e-08 6.63552000e-06 2.65420800e-05\n",
      " 7.37280000e-07 6.63552000e-06 7.37280000e-07 6.63552000e-06\n",
      " 1.06168320e-04 5.30841600e-06 2.98598400e-06 3.31776000e-07\n",
      " 2.98598400e-06 1.32710400e-06 2.98598400e-06 2.07360000e-08\n",
      " 1.86624000e-07 8.29440000e-08 2.98598400e-06 1.67961600e-06\n",
      " 7.46496000e-07 2.98598400e-06 8.29440000e-08 1.19439360e-05\n",
      " 2.98598400e-06 2.07360000e-08 1.86624000e-07 8.29440000e-08\n",
      " 1.86624000e-07 1.04976000e-07 4.66560000e-08 1.86624000e-07\n",
      " 5.18400000e-09 7.46496000e-07 2.98598400e-06 1.67961600e-06\n",
      " 7.46496000e-07 1.86624000e-07 5.18400000e-09 7.46496000e-07\n",
      " 2.68738560e-05 7.46496000e-07 6.71846400e-06 1.19439360e-05\n",
      " 5.30841600e-06 3.68640000e-08 3.31776000e-07 1.47456000e-07\n",
      " 3.31776000e-07 1.86624000e-07 8.29440000e-08 3.31776000e-07\n",
      " 9.21600000e-09 1.32710400e-06 3.31776000e-07 1.86624000e-07\n",
      " 8.29440000e-08 2.07360000e-08 5.76000000e-10 8.29440000e-08\n",
      " 2.98598400e-06 8.29440000e-08 7.46496000e-07 1.32710400e-06\n",
      " 5.30841600e-06 2.98598400e-06 1.32710400e-06 3.31776000e-07\n",
      " 9.21600000e-09 1.32710400e-06 2.98598400e-06 8.29440000e-08\n",
      " 7.46496000e-07 1.32710400e-06 4.77757440e-05 1.32710400e-06\n",
      " 1.19439360e-05 1.32710400e-06 1.91102976e-04 9.55514880e-06\n",
      " 5.97196800e-07 5.37477120e-06 5.97196800e-07 5.37477120e-06\n",
      " 2.38878720e-06 5.97196800e-07 3.35923200e-07 3.73248000e-08\n",
      " 3.35923200e-07 1.49299200e-07 5.37477120e-06 3.73248000e-08\n",
      " 3.35923200e-07 1.49299200e-07 5.37477120e-06 3.02330880e-06\n",
      " 1.34369280e-06 5.37477120e-06 1.49299200e-07 2.14990848e-05\n",
      " 1.06168320e-06 5.97196800e-07 6.63552000e-08 5.97196800e-07\n",
      " 2.65420800e-07 5.97196800e-07 4.14720000e-09 3.73248000e-08\n",
      " 1.65888000e-08 5.97196800e-07 3.35923200e-07 1.49299200e-07\n",
      " 5.97196800e-07 1.65888000e-08 2.38878720e-06 9.55514880e-06\n",
      " 6.63552000e-08 5.97196800e-07 2.65420800e-07 5.97196800e-07\n",
      " 3.35923200e-07 1.49299200e-07 5.97196800e-07 1.65888000e-08\n",
      " 2.38878720e-06 9.55514880e-06 5.37477120e-06 2.38878720e-06\n",
      " 5.97196800e-07 1.65888000e-08 2.38878720e-06 8.59963392e-05\n",
      " 2.38878720e-06 2.14990848e-05 3.82205952e-05 1.71992678e-05\n",
      " 1.07495424e-06 1.07495424e-06 9.67458816e-06 1.07495424e-06\n",
      " 9.67458816e-06 4.29981696e-06 1.91102976e-06 1.19439360e-07\n",
      " 1.07495424e-06 1.19439360e-07 1.07495424e-06 4.77757440e-07\n",
      " 1.91102976e-06 1.07495424e-06 1.19439360e-07 1.07495424e-06\n",
      " 4.77757440e-07 1.71992678e-05 1.19439360e-07 1.07495424e-06\n",
      " 4.77757440e-07 1.71992678e-05 9.67458816e-06 4.29981696e-06\n",
      " 1.71992678e-05 4.77757440e-07 6.87970714e-05 3.09586821e-05\n",
      " 3.43985357e-06 3.43985357e-06 3.43985357e-06 3.09586821e-05\n",
      " 3.43985357e-06 3.09586821e-05 1.37594143e-05 9.90677828e-05]\n"
     ]
    }
   ],
   "source": [
    "for i in range(P.shape[0]):\n",
    "    P[i] = GetProb(T,E,Obs,HiddenStates[i],Prior)\n",
    "    \n",
    "print(P)"
   ]
  },
  {
   "cell_type": "markdown",
   "metadata": {},
   "source": [
    "C)"
   ]
  },
  {
   "cell_type": "code",
   "execution_count": 35,
   "metadata": {},
   "outputs": [
    {
     "name": "stdout",
     "output_type": "stream",
     "text": [
      "[[1 1 1 1 0 0 0 0]]\n",
      "['Sesgada' 'Sesgada' 'Sesgada' 'Sesgada' 'Justa' 'Justa' 'Justa' 'Justa']\n",
      "0.0001911029760000001\n"
     ]
    }
   ],
   "source": [
    "ii = np.where( P == np.amax(P))\n",
    "print(HiddenStates[ii])\n",
    "lista=np.array([])\n",
    "for i in HiddenStates[ii]:\n",
    "    for j in i:\n",
    "        if j == 0:\n",
    "            lista=np.append(lista, \"Justa\")\n",
    "        if j==1:\n",
    "            lista=np.append(lista, \"Sesgada\")\n",
    "          \n",
    "print(lista) \n",
    "print(max(P))"
   ]
  },
  {
   "cell_type": "code",
   "execution_count": 36,
   "metadata": {},
   "outputs": [
    {
     "data": {
      "text/plain": [
       "0.0019344381513984013"
      ]
     },
     "execution_count": 36,
     "metadata": {},
     "output_type": "execute_result"
    }
   ],
   "source": [
    "np.sum(P)"
   ]
  },
  {
   "cell_type": "code",
   "execution_count": 37,
   "metadata": {},
   "outputs": [
    {
     "name": "stdout",
     "output_type": "stream",
     "text": [
      "[(0, 0, 0, 0, 0, 0, 0, 0), (0, 0, 0, 0, 0, 0, 0, 1), (0, 0, 0, 0, 0, 0, 1, 1), (0, 0, 0, 0, 0, 1, 1, 1), (0, 0, 0, 0, 1, 1, 1, 1), (0, 0, 0, 1, 1, 1, 1, 1), (0, 0, 1, 1, 1, 1, 1, 1), (0, 1, 1, 1, 1, 1, 1, 1), (1, 1, 1, 1, 1, 1, 1, 1)]\n"
     ]
    }
   ],
   "source": [
    "ObsStates = GetStates([0,1],8)"
   ]
  },
  {
   "cell_type": "code",
   "execution_count": 38,
   "metadata": {},
   "outputs": [],
   "source": [
    "Nobs = ObsStates.shape[0]\n",
    "\n",
    "PObs = np.zeros(Nobs)\n",
    "\n",
    "for j in range(Nobs):\n",
    "    \n",
    "    dim = HiddenStates.shape[0]\n",
    "    P = np.zeros(dim)\n",
    "    \n",
    "    for i in range(dim):\n",
    "        P[i] = GetProb(T,E,ObsStates[j],HiddenStates[i],Prior)\n",
    "        \n",
    "    PObs[j] = np.sum(P)\n",
    "\n"
   ]
  },
  {
   "cell_type": "code",
   "execution_count": 39,
   "metadata": {},
   "outputs": [
    {
     "data": {
      "image/png": "[encoded data removed]",
      "text/plain": [
       "<Figure size 640x480 with 1 Axes>"
      ]
     },
     "metadata": {},
     "output_type": "display_data"
    }
   ],
   "source": [
    "plt.plot(P)\n",
    "plt.grid(True)"
   ]
  },
  {
   "cell_type": "markdown",
   "metadata": {},
   "source": [
    "D)"
   ]
  },
  {
   "cell_type": "code",
   "execution_count": 40,
   "metadata": {},
   "outputs": [
    {
     "name": "stdout",
     "output_type": "stream",
     "text": [
      "1.0000000000000007\n",
      "El resultado se acerca de sobremanera al resultado teórico de 1\n"
     ]
    }
   ],
   "source": [
    "print(np.sum(PObs))\n",
    "print(\"El resultado se acerca de sobremanera al resultado teórico de 1\")"
   ]
  },
  {
   "cell_type": "markdown",
   "metadata": {},
   "source": [
    "E) ¿Depende el resultado de la probabilidad a-priori?"
   ]
  },
  {
   "cell_type": "markdown",
   "metadata": {},
   "source": [
    "la probabilidad a-priori afecta de manera directa al resultado, ya que la probabilidad a priori claramente favorece a la moneda sesgada, ya que para la moneda justa la probabilidad a-priori es 0.2 y para la moneda sesgada la probabilidad a-priori es 0.8.\n",
    "De esta manera, 0.8 es mucho mayor que 0.2, con lo cual la la probabilidad a-priori sí influye sobre el resultado, en este caso, favoreciendo a la moneda sesgada."
   ]
  },
  {
   "cell_type": "code",
   "execution_count": null,
   "metadata": {},
   "outputs": [],
   "source": []
  }
 ],
 "metadata": {
  "kernelspec": {
   "display_name": "Python 3.7.7",
   "language": "python",
   "name": ".venv"
  },
  "language_info": {
   "codemirror_mode": {
    "name": "ipython",
    "version": 3
   },
   "file_extension": ".py",
   "mimetype": "text/x-python",
   "name": "python",
   "nbconvert_exporter": "python",
   "pygments_lexer": "ipython3",
   "version": "3.7.7"
  }
 },
 "nbformat": 4,
 "nbformat_minor": 2
}
