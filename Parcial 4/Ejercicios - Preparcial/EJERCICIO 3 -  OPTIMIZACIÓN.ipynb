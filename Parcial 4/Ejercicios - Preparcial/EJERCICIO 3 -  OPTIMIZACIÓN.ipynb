{
 "cells": [
  {
   "cell_type": "code",
   "execution_count": 1,
   "metadata": {},
   "outputs": [],
   "source": [
    "import numpy as np\n",
    "import scipy.optimize as spo"
   ]
  },
  {
   "cell_type": "code",
   "execution_count": 2,
   "metadata": {},
   "outputs": [],
   "source": [
    "p0=np.array([1,10/3,1])"
   ]
  },
  {
   "cell_type": "code",
   "execution_count": 3,
   "metadata": {},
   "outputs": [],
   "source": [
    "def volumen (p):\n",
    "    return -(p[0]*p[1]*p[2])"
   ]
  },
  {
   "cell_type": "code",
   "execution_count": 4,
   "metadata": {},
   "outputs": [],
   "source": [
    "bounds = ( (1,100),(1,100) )\n",
    "\n",
    "constraints = ( {'type':'eq','fun': lambda p: p[0]*p[1] + 2*p[1]*p[2] + 2*p[0]*p[2] - 12} )\n",
    "\n",
    "result = spo.minimize( volumen, p0, constraints = constraints )"
   ]
  },
  {
   "cell_type": "code",
   "execution_count": 5,
   "metadata": {},
   "outputs": [
    {
     "name": "stdout",
     "output_type": "stream",
     "text": [
      "El volumen máximo que podrá almacenar el usuario en este producto es 4.0 cm^3\n"
     ]
    }
   ],
   "source": [
    "vol=volumen(result.x)\n",
    "\n",
    "print(f\"El volumen máximo que podrá almacenar el usuario en este producto es {abs(round(vol,3))} cm^3\")"
   ]
  }
 ],
 "metadata": {
  "kernelspec": {
   "display_name": "Python 3",
   "language": "python",
   "name": "python3"
  },
  "language_info": {
   "codemirror_mode": {
    "name": "ipython",
    "version": 3
   },
   "file_extension": ".py",
   "mimetype": "text/x-python",
   "name": "python",
   "nbconvert_exporter": "python",
   "pygments_lexer": "ipython3",
   "version": "3.9.7"
  }
 },
 "nbformat": 4,
 "nbformat_minor": 2
}
