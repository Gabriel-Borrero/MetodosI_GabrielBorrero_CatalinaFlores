{
 "cells": [
  {
   "cell_type": "code",
   "execution_count": 1,
   "metadata": {},
   "outputs": [],
   "source": [
    "import numpy as np"
   ]
  },
  {
   "cell_type": "code",
   "execution_count": 2,
   "metadata": {},
   "outputs": [
    {
     "data": {
      "text/plain": [
       "array([[ 3,  1, -1],\n",
       "       [ 1,  2,  0],\n",
       "       [ 0,  1,  2],\n",
       "       [ 1,  1, -1]])"
      ]
     },
     "execution_count": 2,
     "metadata": {},
     "output_type": "execute_result"
    }
   ],
   "source": [
    "b = np.array([-3,-3,8,9])\n",
    "u_1 = np.array([3,1,0,1])\n",
    "u_2 = np.array([1,2,1,1])\n",
    "u_3 = np.array([-1,0,2,-1])\n",
    "a = np.array([u_1,u_2,u_3])\n",
    "A = a.T\n",
    "A"
   ]
  },
  {
   "cell_type": "markdown",
   "metadata": {},
   "source": [
    "a) Mínimos Cuadrados"
   ]
  },
  {
   "cell_type": "code",
   "execution_count": 3,
   "metadata": {},
   "outputs": [],
   "source": [
    "ATxA = np.dot(A.T,A)\n",
    "IATxA=np.linalg.inv(ATxA)"
   ]
  },
  {
   "cell_type": "code",
   "execution_count": 4,
   "metadata": {},
   "outputs": [],
   "source": [
    "xPARTE1=np.dot(IATxA,A.T)"
   ]
  },
  {
   "cell_type": "code",
   "execution_count": 5,
   "metadata": {},
   "outputs": [],
   "source": [
    "x=np.dot(xPARTE1,b.T)"
   ]
  },
  {
   "cell_type": "code",
   "execution_count": 6,
   "metadata": {},
   "outputs": [
    {
     "data": {
      "text/plain": [
       "array([-2.00000000e+00,  3.00000000e+00,  4.00000000e+00, -1.33226763e-15])"
      ]
     },
     "execution_count": 6,
     "metadata": {},
     "output_type": "execute_result"
    }
   ],
   "source": [
    "Proy=np.dot(A,x)\n",
    "Proy"
   ]
  },
  {
   "cell_type": "markdown",
   "metadata": {},
   "source": [
    "b) Grand-Schmidt"
   ]
  },
  {
   "cell_type": "code",
   "execution_count": 7,
   "metadata": {},
   "outputs": [],
   "source": [
    "def normalizar (u_1):\n",
    "    n_1=u_1/(np.sqrt(np.dot(u_1,u_1)))\n",
    "    return n_1"
   ]
  },
  {
   "cell_type": "code",
   "execution_count": 8,
   "metadata": {},
   "outputs": [
    {
     "data": {
      "text/plain": [
       "array([[ 0.90453403,  0.30151134,  0.        ,  0.30151134],\n",
       "       [-0.32961713,  0.75341057,  0.51796977,  0.2354408 ],\n",
       "       [ 0.25633581, -0.26982716,  0.78249877, -0.49918025]])"
      ]
     },
     "execution_count": 8,
     "metadata": {},
     "output_type": "execute_result"
    }
   ],
   "source": [
    "def Grand_Schmidt (u_1,u_2,u_3):\n",
    "    n_1 = normalizar(u_1)\n",
    "    v_1 = n_1\n",
    "    v_2 = u_2 - ((np.dot(u_2,v_1))/(np.dot(v_1,v_1)))*v_1\n",
    "    v_3 = u_3 - ((np.dot(u_3,v_1))/(np.dot(v_1,v_1)))*v_1 - ((np.dot(u_3,v_2))/(np.dot(v_2,v_2)))*v_2\n",
    "\n",
    "    vn_2,vn_3 = normalizar(v_2),normalizar(v_3)\n",
    "\n",
    "    Base_orton_st = np.array([v_1,vn_2,vn_3])\n",
    "\n",
    "    return Base_orton_st\n",
    "\n",
    "Base_ortonormal = Grand_Schmidt(u_1,u_2,u_3)\n",
    "Base_ortonormal "
   ]
  },
  {
   "cell_type": "code",
   "execution_count": 9,
   "metadata": {},
   "outputs": [
    {
     "data": {
      "text/plain": [
       "array([-2.00000000e+00,  3.00000000e+00,  4.00000000e+00, -2.22044605e-16])"
      ]
     },
     "execution_count": 9,
     "metadata": {},
     "output_type": "execute_result"
    }
   ],
   "source": [
    "def Proyeccion_GM (b,base_orton):\n",
    "    proyw_b = np.dot(b,base_orton[0])*base_orton[0] + np.dot(b,base_orton[1])*base_orton[1] + np.dot(b,base_orton[2])*base_orton[2]\n",
    "    return proyw_b\n",
    "\n",
    "proyeccionb = Proyeccion_GM(b,Base_ortonormal)\n",
    "proyeccionb"
   ]
  }
 ],
 "metadata": {
  "kernelspec": {
   "display_name": "Python 3.7.7",
   "language": "python",
   "name": "nombre_del_kernel"
  },
  "language_info": {
   "codemirror_mode": {
    "name": "ipython",
    "version": 3
   },
   "file_extension": ".py",
   "mimetype": "text/x-python",
   "name": "python",
   "nbconvert_exporter": "python",
   "pygments_lexer": "ipython3",
   "version": "3.7.7"
  }
 },
 "nbformat": 4,
 "nbformat_minor": 2
}
