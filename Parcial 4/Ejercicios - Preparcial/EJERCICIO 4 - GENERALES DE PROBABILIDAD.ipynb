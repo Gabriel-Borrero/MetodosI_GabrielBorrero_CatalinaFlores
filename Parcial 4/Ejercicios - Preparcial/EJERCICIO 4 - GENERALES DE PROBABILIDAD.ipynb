{
 "cells": [
  {
   "cell_type": "code",
   "execution_count": null,
   "metadata": {},
   "outputs": [],
   "source": [
    "import matplotlib.pyplot as plt\n",
    "import numpy as np\n",
    "\n",
    "def probabilidad_cumpleanos_diferentes(n):\n",
    "    probabilidad = 1.0\n",
    "    for i in range(n):\n",
    "        probabilidad *= (365 - i) / 365\n",
    "    return probabilidad\n",
    "\n",
    "valores_n = np.arange(1, 81)\n",
    "\n",
    "probabilidades = []\n",
    "for n in valores_n:\n",
    "    prob = probabilidad_cumpleanos_diferentes(n)\n",
    "    probabilidades.append(prob)\n",
    "\n",
    "plt.plot(valores_n, probabilidades, marker='o')\n",
    "plt.xlabel('Número de personas (n)')\n",
    "plt.ylabel('Probabilidad de cumpleaños diferentes')\n",
    "plt.title('Probabilidad de cumpleaños diferentes en un grupo de n personas')\n",
    "plt.grid(True)\n",
    "plt.show()\n",
    "\n",
    "\n",
    "\n"
   ]
  }
 ],
 "metadata": {
  "kernelspec": {
   "display_name": "Python 3",
   "language": "python",
   "name": "python3"
  },
  "language_info": {
   "codemirror_mode": {
    "name": "ipython",
    "version": 3
   },
   "file_extension": ".py",
   "mimetype": "text/x-python",
   "name": "python",
   "nbconvert_exporter": "python",
   "pygments_lexer": "ipython3",
   "version": "3.7.7"
  }
 },
 "nbformat": 4,
 "nbformat_minor": 2
}
