{
 "cells": [
  {
   "cell_type": "code",
   "execution_count": 2,
   "metadata": {},
   "outputs": [],
   "source": [
    "import numpy as np\n",
    "import matplotlib.pyplot as plt\n",
    "import scipy.optimize as spo"
   ]
  },
  {
   "cell_type": "code",
   "execution_count": 3,
   "metadata": {},
   "outputs": [
    {
     "name": "stdout",
     "output_type": "stream",
     "text": [
      " message: Optimization terminated successfully\n",
      " success: True\n",
      "  status: 0\n",
      "     fun: 0.19999999998923168\n",
      "       x: [-1.333e-01  2.667e-01  6.667e-01]\n",
      "     nit: 4\n",
      "     jac: [-2.667e-01  5.333e-01 -6.667e-01]\n",
      "    nfev: 16\n",
      "    njev: 4\n",
      "El valor mínimo de la función es: 0.19999999998923168\n"
     ]
    }
   ],
   "source": [
    "import numpy as np\n",
    "import scipy.optimize as spo\n",
    "\n",
    "def objetivo(xyz):\n",
    "    x, y, z = xyz\n",
    "    return x**2 + y**2 + z**2 - 2*z + 1\n",
    "\n",
    "\n",
    "def restriccion(xyz):\n",
    "    return 2*xyz[0] - 4*xyz[1] + 5*xyz[2] - 2\n",
    "\n",
    "\n",
    "xyz_inicial = np.array([0, 0, 0])\n",
    "\n",
    "\n",
    "restricciones = ({'type': 'eq', 'fun': restriccion})\n",
    "\n",
    "\n",
    "resultado = spo.minimize(objetivo, xyz_inicial, constraints=restricciones)\n",
    "\n",
    "\n",
    "print(resultado)\n",
    "\n",
    "minimo = resultado.fun\n",
    "print(\"El valor mínimo de la función es:\", minimo + \" lo cual se acerca bastante al valor teórico de 1/5 o 0.2\")\n",
    "    "
   ]
  }
 ],
 "metadata": {
  "kernelspec": {
   "display_name": "Python 3",
   "language": "python",
   "name": "python3"
  },
  "language_info": {
   "codemirror_mode": {
    "name": "ipython",
    "version": 3
   },
   "file_extension": ".py",
   "mimetype": "text/x-python",
   "name": "python",
   "nbconvert_exporter": "python",
   "pygments_lexer": "ipython3",
   "version": "3.11.4"
  }
 },
 "nbformat": 4,
 "nbformat_minor": 2
}
