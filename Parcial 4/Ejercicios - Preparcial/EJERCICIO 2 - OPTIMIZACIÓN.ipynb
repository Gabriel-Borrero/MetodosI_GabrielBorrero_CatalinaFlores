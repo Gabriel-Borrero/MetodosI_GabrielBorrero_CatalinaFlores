{
 "cells": [
  {
   "cell_type": "code",
   "execution_count": 2,
   "metadata": {},
   "outputs": [],
   "source": [
    "import numpy as np\n",
    "import matplotlib.pyplot as plt\n",
    "import scipy.optimize as spo"
   ]
  },
  {
   "cell_type": "code",
   "execution_count": 7,
   "metadata": {},
   "outputs": [
    {
     "name": "stdout",
     "output_type": "stream",
     "text": [
      "     fun: 0.19999999998923168\n",
      "     jac: array([-0.26666667,  0.53333332, -0.66666667])\n",
      " message: 'Optimization terminated successfully'\n",
      "    nfev: 16\n",
      "     nit: 4\n",
      "    njev: 4\n",
      "  status: 0\n",
      " success: True\n",
      "       x: array([-0.13333334,  0.26666665,  0.66666666])\n",
      "\n",
      "\n",
      "El valor mínimo de la función es:0.19999999998923168 lo cual se acerca bastante al valor teórico de 1/5 o 0.2\n"
     ]
    }
   ],
   "source": [
    "import numpy as np\n",
    "import scipy.optimize as spo\n",
    "\n",
    "def objetivo(xyz):\n",
    "    x, y, z = xyz\n",
    "    return x**2 + y**2 + z**2 - 2*z + 1\n",
    "\n",
    "\n",
    "def restriccion(xyz):\n",
    "    return 2*xyz[0] - 4*xyz[1] + 5*xyz[2] - 2\n",
    "\n",
    "\n",
    "xyz_inicial = np.array([0, 0, 0])\n",
    "\n",
    "\n",
    "restricciones = ({'type': 'eq', 'fun': restriccion})\n",
    "\n",
    "\n",
    "resultado = spo.minimize(objetivo, xyz_inicial, constraints=restricciones)\n",
    "\n",
    "\n",
    "print(resultado)\n",
    "\n",
    "minimo = resultado.fun\n",
    "print(\"\\n\")\n",
    "print(\"El valor mínimo de la función es:\" + str(minimo) + \" lo cual se acerca bastante al valor teórico de 1/5 o 0.2\")\n",
    "    "
   ]
  }
 ],
 "metadata": {
  "kernelspec": {
   "display_name": "Python 3",
   "language": "python",
   "name": "python3"
  },
  "language_info": {
   "codemirror_mode": {
    "name": "ipython",
    "version": 3
   },
   "file_extension": ".py",
   "mimetype": "text/x-python",
   "name": "python",
   "nbconvert_exporter": "python",
   "pygments_lexer": "ipython3",
   "version": "3.7.7"
  }
 },
 "nbformat": 4,
 "nbformat_minor": 2
}
