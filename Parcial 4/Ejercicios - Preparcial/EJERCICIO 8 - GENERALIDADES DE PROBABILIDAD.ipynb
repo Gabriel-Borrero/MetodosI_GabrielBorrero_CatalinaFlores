{
 "cells": [
  {
   "cell_type": "code",
   "execution_count": null,
   "metadata": {},
   "outputs": [],
   "source": [
    "\n",
    "import numpy as np\n",
    "import matplotlib.pyplot as plt"
   ]
  },
  {
   "cell_type": "code",
   "execution_count": null,
   "metadata": {},
   "outputs": [
    {
     "data": {
      "text/plain": [
       "0.37591"
      ]
     },
     "execution_count": 56,
     "metadata": {},
     "output_type": "execute_result"
    }
   ],
   "source": [
    "def GetSample(N = int(1e5), ncoins = 4, Weights=None):\n",
    "    \n",
    "    Sample = np.zeros((N,ncoins))\n",
    "    \n",
    "    Events = [-1, 1]\n",
    "    \n",
    "    for i in range(N):\n",
    "        \n",
    "        if Weights == None:\n",
    "            Exp = np.random.choice(Events,ncoins)\n",
    "            \n",
    "       # print(Exp)\n",
    "        Sample[i] = Exp\n",
    "        \n",
    "    return Sample\n",
    "\n",
    "Sample= GetSample()\n",
    "\n",
    "cumple=0\n",
    "cumple_b=0\n",
    "\n",
    "for i in Sample:\n",
    "    if sum(i) == 0:\n",
    "        cumple+=1\n",
    "        \n",
    "probabilidad= cumple/int(1e5)\n",
    "\n",
    "print(\"La probabilidad de que para 10^5 experimentos de 4 monedas, 2 monedas caigan en cara y 2 en sello es: \"+str(probabilidad))\n",
    "\n",
    "        \n",
    "\n"
   ]
  }
 ],
 "metadata": {
  "kernelspec": {
   "display_name": ".venv",
   "language": "python",
   "name": "python3"
  },
  "language_info": {
   "codemirror_mode": {
    "name": "ipython",
    "version": 3
   },
   "file_extension": ".py",
   "mimetype": "text/x-python",
   "name": "python",
   "nbconvert_exporter": "python",
   "pygments_lexer": "ipython3",
   "version": "3.7.7"
  }
 },
 "nbformat": 4,
 "nbformat_minor": 2
}
