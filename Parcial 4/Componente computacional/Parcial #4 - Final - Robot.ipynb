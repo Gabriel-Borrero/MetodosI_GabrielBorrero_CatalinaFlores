{
 "cells": [
  {
   "cell_type": "markdown",
   "metadata": {},
   "source": [
    "                                ENTRENAMIENTO DE ROBOTS - PARCIAL #4 - MÉTODOS COMPUTACIONALES - GABRIEL BORRERO Y CATALINA FLÓREZ"
   ]
  },
  {
   "cell_type": "code",
   "execution_count": 21,
   "id": "41909e8f",
   "metadata": {},
   "outputs": [],
   "source": [
    "import numpy as np\n",
    "import matplotlib.pyplot as plt\n",
    "from IPython.display import clear_output\n",
    "import time\n",
    "import copy\n",
    "from tqdm import tqdm"
   ]
  },
  {
   "cell_type": "markdown",
   "id": "9b1d8cfe",
   "metadata": {},
   "source": [
    "# Neural stuff"
   ]
  },
  {
   "cell_type": "code",
   "execution_count": 22,
   "id": "dd1b0d04",
   "metadata": {},
   "outputs": [],
   "source": [
    "sigm = lambda x: 1/(1+np.exp(-x))"
   ]
  },
  {
   "cell_type": "markdown",
   "metadata": {},
   "source": [
    "(f) Elija un mutation rate adecuado para que cada cerebro pueda cambiar sus\n",
    " parametros y bajar la funcion de aptitud."
   ]
  },
  {
   "cell_type": "code",
   "execution_count": 23,
   "id": "5e745ee2",
   "metadata": {},
   "outputs": [],
   "source": [
    "class Layer:\n",
    "    \n",
    "    \n",
    "    def __init__(self,NC,NN,ActFun,rate=0.2): # 0.2 Es un muy buen número, nos da muchos robots inteligentes\n",
    "        \n",
    "        self.NC = NC\n",
    "        self.NN = NN\n",
    "        self.ActFunc = ActFun\n",
    "        self.rate = rate\n",
    "        \n",
    "        self.W = np.random.uniform( -10.,10.,(self.NC,self.NN) )\n",
    "        self.b = np.random.uniform( -10.,10.,(1,self.NN) )\n",
    "        \n",
    "    def Activation(self,x):\n",
    "        z = np.dot(x,self.W) + self.b\n",
    "        return self.ActFunc( z )[0]\n",
    "    \n",
    "    def Mutate(self):\n",
    "    \n",
    "        #self.W += np.random.normal( loc=0., scale=self.rate, size=(self.NC,self.NN))\n",
    "        #self.b += np.random.normal( loc=0., scale=self.rate, size=(1,self.NN))\n",
    "        \n",
    "        self.W += np.random.uniform( -self.rate, self.rate, size=(self.NC,self.NN))\n",
    "        self.b += np.random.uniform( -self.rate, self.rate, size=(1,self.NN))\n",
    "\n",
    "    def setW(self, NW):\n",
    "        self.W = NW\n",
    "    \n",
    "    def setB(self, NB):\n",
    "        self.b = NB"
   ]
  },
  {
   "cell_type": "markdown",
   "metadata": {},
   "source": [
    " (c) Usando la clase Layer defina una red con 1 neurona en la capa de entrada, 5 neuronas en la capa oculta y 1 neurona en la capa de salida. La red debe recibir la posicion del robot como entrada y la salida es un numero entre 0 y 1 para decidir si se invierte el vector velocidad. (Parte 1)"
   ]
  },
  {
   "cell_type": "code",
   "execution_count": 24,
   "id": "6e1e2d22",
   "metadata": {},
   "outputs": [],
   "source": [
    "def GetBrain():\n",
    "    l0 = Layer(1,5,sigm)\n",
    "    l0.W\n",
    "    #L1 = capa de salida\n",
    "    l1 = Layer(5,1,sigm)\n",
    "    Brain = [l0,l1]\n",
    "    return Brain    "
   ]
  },
  {
   "cell_type": "code",
   "execution_count": 25,
   "id": "50e3fb42",
   "metadata": {},
   "outputs": [
    {
     "data": {
      "text/plain": [
       "array([[7.41785771]])"
      ]
     },
     "execution_count": 25,
     "metadata": {},
     "output_type": "execute_result"
    }
   ],
   "source": [
    "GetBrain()[1].b"
   ]
  },
  {
   "cell_type": "markdown",
   "id": "ebd17597",
   "metadata": {},
   "source": [
    "# Estructura del individuo"
   ]
  },
  {
   "cell_type": "markdown",
   "metadata": {},
   "source": [
    "(c) Si la activacion es mayor a 0.7 se invierte el vector de velocidad. Usted puede elegir una topologa de red mas compleja. (Parte 2)"
   ]
  },
  {
   "cell_type": "markdown",
   "metadata": {},
   "source": [
    " (d) Defina un atributo de clase: self.Steps, este atributo controla qué tanto avanza el robot en la region de interés. (Parte 1)"
   ]
  },
  {
   "cell_type": "markdown",
   "metadata": {},
   "source": [
    "(e) La función de aptitud de este problema puede definirse como el inverso del número de pasos que el robot puede hacer sin salir de la función de interés. P = 1/Nsteps . Esto significa que, si hay aprendizaje el robot puede avanzar rebotando en los límites de la región. Usted puede pensar en otra función de optimización para resolver el problema."
   ]
  },
  {
   "cell_type": "markdown",
   "metadata": {},
   "source": [
    " (g) En la clase Robot, defina un método que haga el forward pass de la red, si la activación es mayor a 0.7 invierta el vector velocidad self.v =-self.v."
   ]
  },
  {
   "cell_type": "code",
   "execution_count": 26,
   "id": "a0113785",
   "metadata": {},
   "outputs": [],
   "source": [
    "class Robot:\n",
    "    \n",
    "    def __init__(self, dt, Layers, Id=0):\n",
    "        \n",
    "        self.Id = Id\n",
    "        self.dt = dt\n",
    "        \n",
    "        \n",
    "        self.r = np.random.uniform([0.,0.])\n",
    "        theta = 0.\n",
    "        self.v = np.array([1.*np.cos(theta),1.*np.sin(theta)])\n",
    "\n",
    "        \n",
    "        # Capacidad o aptitud del individuo\n",
    "        self.Fitness = np.inf\n",
    "        #D\n",
    "        self.Steps = 0\n",
    "\n",
    "        # Brain\n",
    "        self.Layers = Layers\n",
    "        \n",
    "    def GetR(self):\n",
    "        return self.r\n",
    "    \n",
    "    def Evolution(self):\n",
    "        self.r += self.v*self.dt # Euler integration (Metodos 2)\n",
    "\n",
    "        # Cada generación regreamos el robot al origin\n",
    "        # Y volvemos a estimar su fitness\n",
    "    def Reset(self):\n",
    "        self.Steps = 0.\n",
    "        self.r = np.array([0.,0.])\n",
    "        self.Fitness = np.inf    \n",
    "        \n",
    "    # Aca debes definir que es mejorar en tu proceso evolutivo\n",
    "    def SetFitness(self):\n",
    "        self.Fitness = 1/self.Steps \n",
    "        \n",
    "       # Brain stuff\n",
    "    def BrainActivation(self,x,threshold=0.70): # 0.7 Es un muy buen número\n",
    "        # El umbral (threshold) cerebral es a tu gusto!\n",
    "        # cercano a 1 es exigente\n",
    "        # cercano a 0 es sindrome de down\n",
    "        \n",
    "        # Forward pass - la infomación fluye por el modelo hacia adelante\n",
    "        for i in range(len(self.Layers)):         \n",
    "            if i == 0:\n",
    "                output = self.Layers[i].Activation(x)\n",
    "            else:\n",
    "                output = self.Layers[i].Activation(output)\n",
    "        \n",
    "        self.Activation = np.round(output,4)\n",
    "    \n",
    "        # Cambiamos el vector velocidad\n",
    "        #C & E\n",
    "        if self.Activation[0] > threshold:\n",
    "            self.v = -self.v\n",
    "            self.Steps -= 0.5\n",
    "            \n",
    "            # Deberias penalizar de alguna forma, dado que mucha activación es desgastante!\n",
    "            # Para cualquier cerebro\n",
    "    \n",
    "        return self.Activation\n",
    "    \n",
    "    # Aca mutamos (cambiar de parametros) para poder \"aprender\"\n",
    "    def Mutate(self):\n",
    "        for i in range(len(self.Layers)):\n",
    "            self.Layers[i].Mutate()\n",
    "    \n",
    "    # Devolvemos la red neuronal ya entrenada\n",
    "    def GetBrain(self):\n",
    "        return self.Layers"
   ]
  },
  {
   "cell_type": "code",
   "execution_count": 27,
   "id": "d3611349",
   "metadata": {},
   "outputs": [],
   "source": [
    "def GetRobots(N):\n",
    "    \n",
    "    Robots = []\n",
    "    \n",
    "    for i in range(N):\n",
    "        \n",
    "        Brain = GetBrain()\n",
    "        r = Robot(dt,Brain,Id=i)\n",
    "        Robots.append(r)\n",
    "        \n",
    "    return Robots"
   ]
  },
  {
   "cell_type": "markdown",
   "metadata": {},
   "source": [
    "(b) La evolución temporal de la simulación debe estar entre 0 a 5 segundos, con un intervalo temporal de t = 0.1 s"
   ]
  },
  {
   "cell_type": "code",
   "execution_count": 28,
   "metadata": {},
   "outputs": [],
   "source": [
    "dt = 0.1\n",
    "t = np.arange(0.,5.,dt)"
   ]
  },
  {
   "cell_type": "markdown",
   "metadata": {},
   "source": [
    "(a) Genere al menos N = 200 robots."
   ]
  },
  {
   "cell_type": "code",
   "execution_count": 29,
   "id": "948c609d",
   "metadata": {},
   "outputs": [],
   "source": [
    "Robots = GetRobots(200)"
   ]
  },
  {
   "cell_type": "code",
   "execution_count": 30,
   "id": "4ce7940f",
   "metadata": {},
   "outputs": [],
   "source": [
    "def GetPlot():\n",
    "    \n",
    "    fig = plt.figure(figsize=(8,4))\n",
    "    ax = fig.add_subplot(1,2,1)\n",
    "    ax1 = fig.add_subplot(1,2,2)\n",
    "    \n",
    "    ax.set_xlim(-1.,1.)\n",
    "    ax.set_ylim(-1.,1.)\n",
    " \n",
    "    return ax,ax1"
   ]
  },
  {
   "cell_type": "markdown",
   "id": "573fed33",
   "metadata": {},
   "source": [
    "# Time evolution"
   ]
  },
  {
   "cell_type": "markdown",
   "metadata": {},
   "source": [
    "(d) Durante el movimiento el robot aumenta el valor\n",
    " de esta variable en una unidad si la partícula se encuentra entre -1<=x<=1. Note que si la red se activa demasiado cambiará constantemente el vector velocidad y no podrá avanzar (overfitting), deberá penalizar este cambio disminuyendo la variable self.Steps en cierto factor entre ([0.0, 0.9]) para que el fitness no disminuya con un modelo muy activo.(Parte 2)"
   ]
  },
  {
   "cell_type": "code",
   "execution_count": 31,
   "id": "aca65201",
   "metadata": {},
   "outputs": [],
   "source": [
    "def TimeEvolution(Robots,e,Plot=True):\n",
    "    \n",
    "  \n",
    "    for it in range(t.shape[0]):\n",
    "        \n",
    "        if Plot:\n",
    "        \n",
    "            clear_output(wait=True)\n",
    "        \n",
    "            ax,ax1 = GetPlot()\n",
    "            ax1.set_ylim(0.,1.)\n",
    "        \n",
    "            ax.set_title('t = {:.3f}'.format(t[it]))\n",
    "        \n",
    "        Activation = np.zeros(len(Robots))\n",
    "        \n",
    "        for i,p in enumerate(Robots):\n",
    "            p.Evolution()\n",
    "         \n",
    "            # Activacion cerebral\n",
    "            Act = p.BrainActivation(p.GetR()[0])\n",
    "            Activation[i] = Act\n",
    "            # Region donde aumentamos los pasos para el fitness\n",
    "            #D\n",
    "            if -1<=p.GetR()[0] and p.GetR()[0]<=1:\n",
    "                p.Steps += 1\n",
    "            \n",
    "            if Plot and i < 5: # Solo pintamos los primeros 5, por tiempo de computo\n",
    "                ax.scatter(p.r[0],p.r[1],label='Id: {}, Steps: {:.0f}'.format(p.Id,p.Steps))\n",
    "                ax.quiver(p.r[0],p.r[1],p.v[0],p.v[1])\n",
    "                \n",
    "        # Pintamos la activaciones de los primeros 5\n",
    "        \n",
    "        if Plot:\n",
    "            ax1.plot(np.arange(0,len(Robots[:5]),1),Activation[:5],marker='o',color='b',label='Activation')\n",
    "            ax1.axhline(y=0.7,color='r')\n",
    "        \n",
    "        if Plot:\n",
    "        \n",
    "            ax.legend(loc=0)  \n",
    "            ax1.legend(loc=0)\n",
    "            plt.show()\n",
    "            time.sleep(0.001)"
   ]
  },
  {
   "cell_type": "markdown",
   "id": "ea863b5e",
   "metadata": {},
   "source": [
    "# Algoritmo evolutivo"
   ]
  },
  {
   "cell_type": "markdown",
   "metadata": {},
   "source": [
    "(h) La pseudo-rutina de 200 épocas"
   ]
  },
  {
   "cell_type": "code",
   "execution_count": 32,
   "id": "e0ed70ae",
   "metadata": {},
   "outputs": [],
   "source": [
    "# Definimos la rutina de entrenamiento\n",
    "def Genetic(Robots, epochs = 200, Plot = True, Plottime=False):\n",
    "    \n",
    "    # Porcentaje de robots elegidos en cada epoch\n",
    "    N = int(0.7*len(Robots))\n",
    "    \n",
    "    FitVector = np.array([])\n",
    "    \n",
    "    \n",
    "    x = np.linspace(-1,1,20)\n",
    "    Act = np.zeros_like(x)\n",
    "    \n",
    "    for e in range(int(epochs)):\n",
    "        \n",
    "        # Reiniciamos y mutamos los pesos\n",
    "        \n",
    "        for p in Robots:\n",
    "            p.Reset() \n",
    "            p.Mutate()\n",
    "            \n",
    "        # Evolucionamos\n",
    "        TimeEvolution(Robots,e,Plottime) # Apagar dibujar la evolución para entrenar\n",
    "        \n",
    "        # Actualizamos fitness de cada robot\n",
    "        for i,p in enumerate(Robots):\n",
    "            p.SetFitness()\n",
    "        \n",
    "        # Aca va toda la rutina de ordenar los bots del más apto al menos apto\n",
    "        \n",
    "        scores = [ (p.Fitness,p) for p in Robots ]\n",
    "        scores.sort(key = lambda x: x[0])\n",
    "        best_fitness = scores[0][0] #Aquí encontramos el mejor fitness, el cual se encuentra al principio de la matriz\n",
    "        best_bot = scores[0][1] #Aquí encontramos al mejor robor, el cual se encuentra al principio de la matriz\n",
    "        \n",
    "        FitVector = np.append(FitVector,best_fitness)\n",
    "        \n",
    "        for i in range(len(x)):\n",
    "            Act[i] = best_bot.BrainActivation(x[i])\n",
    "        \n",
    "        clear_output(wait=True)\n",
    "        \n",
    "        print('Epoch:', e)\n",
    "                \n",
    "        # Last fitness\n",
    "        print('Last Fitness:', FitVector[-1])\n",
    "        \n",
    "        \n",
    "        if Plot:\n",
    "            \n",
    "            ax,ax1 = GetPlot()\n",
    "            ax.plot(x,Act,color='k')\n",
    "            ax.set_ylim(0.,1)\n",
    "            ax.axhline(y=0.7,ls='--',color='r',label='Threshold')\n",
    "            \n",
    "            ax1.set_title('Fitness')\n",
    "            ax1.plot(FitVector)\n",
    "        \n",
    "            ax.legend(loc=0)\n",
    "            \n",
    "            plt.show()\n",
    "            \n",
    "            time.sleep(0.01)\n",
    "        \n",
    "        \n",
    "    \n",
    "    return best_bot, FitVector"
   ]
  },
  {
   "cell_type": "code",
   "execution_count": 33,
   "id": "726ff177",
   "metadata": {},
   "outputs": [
    {
     "name": "stdout",
     "output_type": "stream",
     "text": [
      "Epoch: 199\n",
      "Last Fitness: 0.022727272727272728\n"
     ]
    },
    {
     "data": {
      "image/png": "[encoded data removed]",
      "text/plain": [
       "<Figure size 800x400 with 2 Axes>"
      ]
     },
     "metadata": {},
     "output_type": "display_data"
    }
   ],
   "source": [
    "Robots = GetRobots(200)\n",
    "best_bot, FitVector = Genetic(Robots,Plot=True,Plottime=False) # Apagar Plottime para el entrenamiento"
   ]
  },
  {
   "cell_type": "code",
   "execution_count": 34,
   "id": "7bb6255e",
   "metadata": {},
   "outputs": [
    {
     "data": {
      "text/plain": [
       "[<matplotlib.lines.Line2D at 0x24438d402f0>]"
      ]
     },
     "execution_count": 34,
     "metadata": {},
     "output_type": "execute_result"
    },
    {
     "data": {
      "image/png": "[encoded data removed]",
      "text/plain": [
       "<Figure size 640x480 with 1 Axes>"
      ]
     },
     "metadata": {},
     "output_type": "display_data"
    }
   ],
   "source": [
    "plt.plot(FitVector)"
   ]
  },
  {
   "cell_type": "markdown",
   "metadata": {},
   "source": [
    "Justo en este punto, nuestro algoritmo devuelve el mejor cerebro de esta iteración específica (el robot más inteligente que cumple con los requisitos del problema). Sin embargo, nuestro algoritmo imprime y grafica más adelante el robot más inteligente que nosotros encontramos previamente después de haber entrenado a los robots varias veces. "
   ]
  },
  {
   "cell_type": "code",
   "execution_count": 37,
   "metadata": {},
   "outputs": [
    {
     "name": "stdout",
     "output_type": "stream",
     "text": [
      "El cerebro del robot más inteligente encontrado en este entrenamiento por nuestro algoritmo es: \n",
      "\n",
      "\n",
      "Neural Stuff associated with L0\n",
      "Weights:  [[-4.46209447  8.31979838  8.82368914 11.5431237   7.42416343]]\n",
      "Biasses:  [[-4.40026566 -4.6859707   3.47344881 -3.48711138  0.75999751]]\n",
      "Neural Stuff associated with L1\n",
      "Weights:  [[ 6.68850577]\n",
      " [ 6.8901348 ]\n",
      " [-9.68691766]\n",
      " [ 5.19378848]\n",
      " [ 4.50243959]]\n",
      "Biasses:  [[-4.09165029]]\n"
     ]
    }
   ],
   "source": [
    "bestBrain = best_bot.GetBrain()\n",
    "print(\"El cerebro del robot más inteligente encontrado en este entrenamiento por nuestro algoritmo es: \")\n",
    "print(\"\\n\")\n",
    "print(\"Neural Stuff associated with L0\")\n",
    "print(\"Weights: \",bestBrain[0].W)\n",
    "print(\"Biasses: \",bestBrain[0].b)\n",
    "print(\"Neural Stuff associated with L1\")\n",
    "print(\"Weights: \",bestBrain[1].W)\n",
    "print(\"Biasses: \",bestBrain[1].b)\n"
   ]
  },
  {
   "cell_type": "markdown",
   "metadata": {},
   "source": [
    "                                                                EL ROBOT MÁS INTELIGENTE"
   ]
  },
  {
   "cell_type": "markdown",
   "metadata": {},
   "source": [
    "En este punto, nustro algoritmo grafica el robot más inteligente que nosotros encontramos luego de haber entrenado a los robots varias veces. Es decir, estos son nuestros mejores pesos y sesgos para las capas del cerebro del robot más inteligente."
   ]
  },
  {
   "cell_type": "code",
   "execution_count": 41,
   "metadata": {},
   "outputs": [
    {
     "data": {
      "image/png": "[encoded data removed]",
      "text/plain": [
       "<Figure size 800x400 with 2 Axes>"
      ]
     },
     "metadata": {},
     "output_type": "display_data"
    },
    {
     "name": "stdout",
     "output_type": "stream",
     "text": [
      "Nuestro mejor Robot tiene las siguientes características\n",
      "Neural Stuff associated with L0\n",
      "Weights:  [[-1.17697172  8.38135535  1.43639974  8.35758311  5.89725203]]\n",
      "Biasses:  [[ 4.74031426  5.38972282  8.31910193 -8.05971972 -3.16271886]]\n",
      "Neural Stuff associated with L1\n",
      "Weights:  [[-1.46175225]\n",
      " [-8.52847359]\n",
      " [-1.42530751]\n",
      " [11.34632272]\n",
      " [ 4.29426151]]\n",
      "Biasses:  [[5.45981175]]\n"
     ]
    }
   ],
   "source": [
    "l0 = Layer(1,5,sigm)\n",
    "l1 = Layer(5,1,sigm)\n",
    "\n",
    "\n",
    "l0.setW(np.array([[ -1.17697172,  8.38135535, 1.43639974, 8.35758311,  5.89725203]]))\n",
    "l0.setB(np.array([[4.74031426,  5.38972282,  8.31910193,  -8.05971972,  -3.16271886]]))\n",
    "\n",
    "l1.setW(np.array([[-1.46175225],\n",
    " [-8.52847359],\n",
    " [-1.42530751],\n",
    " [11.34632272],\n",
    " [4.29426151]]))\n",
    "\n",
    "l1.setB(np.array([[5.45981175]]))\n",
    "\n",
    "Brain = [l0,l1]\n",
    "\n",
    "mejor_robot_entrenado = Robot(0.1,Brain,200)\n",
    "\n",
    "\n",
    "dt = 0.1\n",
    "\n",
    "t = np.arange(0.,11.,dt)\n",
    "\n",
    "\n",
    "\n",
    "for lt in range(t.shape[0]):\n",
    "\n",
    "    clear_output(wait=True)\n",
    "\n",
    "    mejor_robot_entrenado.Evolution()\n",
    "    A = mejor_robot_entrenado.BrainActivation(mejor_robot_entrenado.GetR()[0])\n",
    "    ax,_=GetPlot()\n",
    "    ax.set_title('t = {:.3f}'.format(t[lt]))\n",
    "\n",
    "    ax.scatter(mejor_robot_entrenado.r[0],mejor_robot_entrenado.r[1],label='Id {} Brain Activation {:.2f}'.format(mejor_robot_entrenado.Id,A[0]))\n",
    "    ax.quiver(mejor_robot_entrenado.r[0],mejor_robot_entrenado.r[1],mejor_robot_entrenado.v[0],mejor_robot_entrenado.v[1])\n",
    "\n",
    "    ax.legend()\n",
    "    plt.show()\n",
    "\n",
    "    time.sleep(0.01)\n",
    "\n",
    "print(\"Nuestro mejor Robot tiene las siguientes características\")\n",
    "bestBrain = mejor_robot_entrenado.GetBrain()\n",
    "print(\"Neural Stuff associated with L0\")\n",
    "print(\"Weights: \",bestBrain[0].W)\n",
    "print(\"Biasses: \",bestBrain[0].b)\n",
    "print(\"Neural Stuff associated with L1\")\n",
    "print(\"Weights: \",bestBrain[1].W)\n",
    "print(\"Biasses: \",bestBrain[1].b)\n"
   ]
  }
 ],
 "metadata": {
  "kernelspec": {
   "display_name": "Python 3 (ipykernel)",
   "language": "python",
   "name": "python3"
  },
  "language_info": {
   "codemirror_mode": {
    "name": "ipython",
    "version": 3
   },
   "file_extension": ".py",
   "mimetype": "text/x-python",
   "name": "python",
   "nbconvert_exporter": "python",
   "pygments_lexer": "ipython3",
   "version": "3.12.0"
  }
 },
 "nbformat": 4,
 "nbformat_minor": 5
}
