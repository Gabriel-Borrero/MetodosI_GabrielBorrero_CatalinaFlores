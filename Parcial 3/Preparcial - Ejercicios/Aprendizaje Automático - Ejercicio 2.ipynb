{
 "cells": [
  {
   "cell_type": "code",
   "execution_count": 20,
   "metadata": {},
   "outputs": [],
   "source": [
    "import numpy as np"
   ]
  },
  {
   "cell_type": "code",
   "execution_count": 21,
   "metadata": {},
   "outputs": [],
   "source": [
    "def f2(x,y):\n",
    "    return x**4 + y**4 - 2*(x-y)**2"
   ]
  },
  {
   "cell_type": "code",
   "execution_count": 22,
   "metadata": {},
   "outputs": [],
   "source": [
    "Dx = lambda f,x,y,h=1e-5: (f(x+h,y) - f(x-h,y))/(2*h)\n",
    "Dy = lambda f,x,y,h=1e-5: (f(x,y+h) - f(x,y-h))/(2*h)"
   ]
  },
  {
   "cell_type": "code",
   "execution_count": 23,
   "metadata": {},
   "outputs": [],
   "source": [
    "x0, y0 = 0,3"
   ]
  },
  {
   "cell_type": "code",
   "execution_count": 24,
   "metadata": {},
   "outputs": [
    {
     "data": {
      "text/plain": [
       "array([12., 96.])"
      ]
     },
     "execution_count": 24,
     "metadata": {},
     "output_type": "execute_result"
    }
   ],
   "source": [
    "Gradient = lambda f,x,y: np.array([Dx(f,x,y),Dy(f,x,y)])\n",
    "Gradient(f2,x0,y0)"
   ]
  },
  {
   "cell_type": "code",
   "execution_count": 25,
   "metadata": {},
   "outputs": [],
   "source": [
    "def Momentum(x0, f, n, gamma = 0.001, N = 1000):\n",
    "    r = np.zeros((N,2))\n",
    "    r[0] = x0\n",
    "    \n",
    "    Grad = np.zeros((N,2))\n",
    "    Grad[0] = Gradient(f,r[0,0],r[0,1])\n",
    "    \n",
    "    # We save the gradient in each step\n",
    "    error = 10**(-5)\n",
    "    it = 0\n",
    "\n",
    "    for i in (range(1,N)):\n",
    "        r[i] = r[i-1] - gamma*Gradient(f,r[i-1,0],r[i-1,1]) + n*(r[i-2] - r[i-3])\n",
    "        Grad[i] = Gradient(f,r[i-1,0],r[i-1,1])\n",
    "        it += 1\n",
    "        if np.sqrt((Grad[i][0])**2 + (Grad[i][1])**2) < error:\n",
    "            return r, it\n",
    "    return r,it"
   ]
  },
  {
   "cell_type": "code",
   "execution_count": 26,
   "metadata": {},
   "outputs": [
    {
     "name": "stdout",
     "output_type": "stream",
     "text": [
      "El número de iteraciones con mementum es: 342\n"
     ]
    }
   ],
   "source": [
    "x0=np.array([0,3])\n",
    "n=0.6\n",
    "R,it_normal = Momentum(x0,f2,n)\n",
    "print(\"El número de iteraciones con mementum es: \"+str(it_normal))\n"
   ]
  },
  {
   "cell_type": "code",
   "execution_count": 27,
   "metadata": {},
   "outputs": [
    {
     "data": {
      "text/plain": [
       "array([[ 0.        ,  3.        ],\n",
       "       [-0.012     ,  2.904     ],\n",
       "       [-0.02366399,  4.61770376],\n",
       "       ...,\n",
       "       [ 0.        ,  0.        ],\n",
       "       [ 0.        ,  0.        ],\n",
       "       [ 0.        ,  0.        ]])"
      ]
     },
     "execution_count": 27,
     "metadata": {},
     "output_type": "execute_result"
    }
   ],
   "source": [
    "R"
   ]
  },
  {
   "cell_type": "code",
   "execution_count": 28,
   "metadata": {},
   "outputs": [
    {
     "name": "stdout",
     "output_type": "stream",
     "text": [
      "0.0 975\n",
      "0.01 964\n",
      "0.02 953\n",
      "0.03 943\n"
     ]
    },
    {
     "name": "stdout",
     "output_type": "stream",
     "text": [
      "0.04 932\n",
      "0.05 922\n",
      "0.06 911\n",
      "0.07 901\n",
      "0.08 890\n",
      "0.09 880\n",
      "0.1 869\n",
      "0.11 859\n",
      "0.12 848\n",
      "0.13 838\n",
      "0.14 827\n",
      "0.15 817\n",
      "0.16 806\n",
      "0.17 796\n",
      "0.18 785\n",
      "0.19 775\n",
      "0.2 764\n",
      "0.21 754\n",
      "0.22 743\n",
      "0.23 733\n",
      "0.24 722\n",
      "0.25 712\n",
      "0.26 701\n",
      "0.27 691\n",
      "0.28 681\n",
      "0.29 670\n",
      "0.3 660\n",
      "0.31 649\n",
      "0.32 639\n",
      "0.33 628\n",
      "0.34 618\n",
      "0.35000000000000003 607\n",
      "0.36 597\n",
      "0.37 586\n",
      "0.38 576\n",
      "0.39 565\n",
      "0.4 555\n",
      "0.41000000000000003 544\n",
      "0.42 534\n",
      "0.43 523\n",
      "0.44 513\n",
      "0.45 502\n",
      "0.46 492\n",
      "0.47000000000000003 481\n",
      "0.48 470\n",
      "0.49 460\n",
      "0.5 449\n",
      "0.51 439\n",
      "0.52 428\n",
      "0.53 417\n",
      "0.54 407\n",
      "0.55 396\n",
      "0.56 385\n",
      "0.5700000000000001 375\n",
      "0.58 364\n",
      "0.59 353\n",
      "0.6 342\n",
      "0.61 331\n",
      "0.62 320\n",
      "0.63 309\n",
      "0.64 298\n",
      "0.65 287\n",
      "0.66 275\n",
      "0.67 262\n",
      "0.68 246\n",
      "0.6900000000000001 214\n",
      "0.7000000000000001 245\n",
      "0.71 245\n",
      "0.72 285\n",
      "0.73 315\n",
      "0.74 379\n",
      "0.75 396\n",
      "0.76 349\n",
      "0.77 351\n",
      "0.78 340\n",
      "0.79 331\n",
      "0.8 353\n",
      "0.81 352\n",
      "0.8200000000000001 388\n",
      "0.8300000000000001 456\n",
      "0.84 365\n",
      "0.85 371\n",
      "0.86 386\n",
      "0.87 374\n",
      "0.88 424\n",
      "0.89 475\n",
      "0.9 560\n",
      "0.91 625\n",
      "0.92 664\n",
      "0.93 735\n",
      "0.9400000000000001 974\n",
      "0.9500000000000001 999\n",
      "0.96 999\n",
      "0.97 999\n",
      "0.98 151\n",
      "0.99 81\n",
      "1.0 64\n",
      "No existe un valor de coeficiente de momentum para el cual el algoritmo mejorado converga el doble de rapido exáctamente\n"
     ]
    }
   ],
   "source": [
    "for n in np.arange(0, 1.01, 0.01):\n",
    "    r, it = Momentum(x0,f2,n)\n",
    "    print(n,it)\n",
    "    if it == it_normal/2:\n",
    "        it_mitad = it\n",
    "        print(f\"Sí existe un valor de coeficiente de momentum para el cual el algoritmo mejorado converga el doble de rapido y es {n}\")\n",
    "        break\n",
    "    elif n == 1.0:\n",
    "        print(\"No existe un valor de coeficiente de momentum para el cual el algoritmo mejorado converga el doble de rapido exáctamente\")"
   ]
  },
  {
   "cell_type": "markdown",
   "metadata": {},
   "source": [
    "Sin embargo, al calcular el minimizer sin momentum, el número de iteraciones es 975. Esto quiere decir que, sin bien no se encontró un valor de coeficiente de momentum para el cual el algoritmo mejorado converga el doble de rapido exáctamente, si existe un valor de momentum para el cual el algoritmo mejorado converga MÁS del doble de rapido, y ese valor de momentum es 0.6"
   ]
  }
 ],
 "metadata": {
  "kernelspec": {
   "display_name": "Python 3",
   "language": "python",
   "name": "python3"
  },
  "language_info": {
   "codemirror_mode": {
    "name": "ipython",
    "version": 3
   },
   "file_extension": ".py",
   "mimetype": "text/x-python",
   "name": "python",
   "nbconvert_exporter": "python",
   "pygments_lexer": "ipython3",
   "version": "3.11.4"
  }
 },
 "nbformat": 4,
 "nbformat_minor": 2
}
