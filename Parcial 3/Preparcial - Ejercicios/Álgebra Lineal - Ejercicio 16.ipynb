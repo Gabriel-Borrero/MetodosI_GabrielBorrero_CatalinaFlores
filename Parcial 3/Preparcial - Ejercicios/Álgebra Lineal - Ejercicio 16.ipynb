{
 "cells": [
  {
   "cell_type": "code",
   "execution_count": 53,
   "metadata": {},
   "outputs": [],
   "source": [
    "import numpy as np\n",
    "import sympy as sp"
   ]
  },
  {
   "cell_type": "code",
   "execution_count": 54,
   "metadata": {},
   "outputs": [
    {
     "name": "stdout",
     "output_type": "stream",
     "text": [
      "[[ 2  0  0  0]\n",
      " [ 0 -2  0  0]\n",
      " [ 0  0 -2  0]\n",
      " [ 0  0  0 -2]]\n"
     ]
    }
   ],
   "source": [
    "n_u_v= np.array([[1, 0, 0, 0],[0, -1, 0, 0],[0, 0, -1, 0], [0, 0, 0, -1]])\n",
    "matriz_identidad=np.array([[1, 0, 0, 0],[0, 1, 0, 0],[0, 0, 1, 0], [0, 0, 0, 1]])\n",
    "n_u_v_2=2*n_u_v\n",
    "n_u_v_2_I=np.dot(matriz_identidad, n_u_v_2)\n",
    "print(n_u_v_2_I)\n"
   ]
  },
  {
   "cell_type": "code",
   "execution_count": 55,
   "metadata": {},
   "outputs": [],
   "source": [
    "r0 = sp.Matrix([[1, 0, 0, 0], [0, 1, 0, 0], [0, 0, -1, 0], [0, 0, 0, -1]])\n",
    "r1 = sp.Matrix([[0, 0, 0, 1], [0, 0, 1, 0], [0, -1, 0, 0], [-1, 0, 0, 0]])\n",
    "r2= sp.Matrix([[0, 0, 0, -sp.I], [0, 0, sp.I, 0], [0, sp.I, 0, 0], [-sp.I, 0, 0, 0]])\n",
    "r3 = sp.Matrix([[0, 0, 1, 0], [0, 0, 0, -1], [-1, 0, 0, 0], [0, 1, 0, 0]])"
   ]
  },
  {
   "cell_type": "code",
   "execution_count": 56,
   "metadata": {},
   "outputs": [
    {
     "name": "stdout",
     "output_type": "stream",
     "text": [
      "Verificado\n",
      "Verificado\n",
      "Verificado\n",
      "Verificado\n",
      "Verificado\n",
      "Verificado\n",
      "Verificado\n",
      "Verificado\n",
      "Verificado\n",
      "Verificado\n",
      "Verificado\n",
      "Verificado\n",
      "Verificado\n",
      "Verificado\n",
      "Verificado\n",
      "Verificado\n"
     ]
    }
   ],
   "source": [
    "# Calcular {γμ, γν}\n",
    "gamma_mu = [r0, r1, r2, r3]\n",
    "anti_commutation = []\n",
    "for mu in range(4):\n",
    "    for nu in range(4):\n",
    "        result = gamma_mu[mu] * gamma_mu[nu] + gamma_mu[nu] * gamma_mu[mu]\n",
    "        anti_commutation.append(result)\n",
    "\n",
    "métrica = sp.diag(1, -1, -1, -1)\n",
    "\n",
    "for mu in range(4):\n",
    "    for nu in range(4):\n",
    "        expected_result = 2 * métrica[mu, nu] * sp.eye(4)\n",
    "      \n",
    "        if anti_commutation[mu * 4 + nu] == expected_result:\n",
    "            print(\"Verificado\")\n",
    "        else:\n",
    "            print(\"No verificado\")\n"
   ]
  },
  {
   "cell_type": "markdown",
   "metadata": {},
   "source": [
    "De esta manera es posible concluir que el álgebra de Clifford está dada por una relación de anticonmutación, antes descrita."
   ]
  }
 ],
 "metadata": {
  "kernelspec": {
   "display_name": "Python 3",
   "language": "python",
   "name": "python3"
  },
  "language_info": {
   "codemirror_mode": {
    "name": "ipython",
    "version": 3
   },
   "file_extension": ".py",
   "mimetype": "text/x-python",
   "name": "python",
   "nbconvert_exporter": "python",
   "pygments_lexer": "ipython3",
   "version": "3.11.4"
  }
 },
 "nbformat": 4,
 "nbformat_minor": 2
}
