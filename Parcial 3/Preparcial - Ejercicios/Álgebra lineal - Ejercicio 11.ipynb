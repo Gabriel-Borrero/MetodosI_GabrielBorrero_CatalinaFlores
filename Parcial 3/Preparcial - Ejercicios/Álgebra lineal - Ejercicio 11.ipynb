{
 "cells": [
  {
   "cell_type": "code",
   "execution_count": 1,
   "metadata": {},
   "outputs": [],
   "source": [
    "import numpy as np"
   ]
  },
  {
   "cell_type": "code",
   "execution_count": 4,
   "metadata": {},
   "outputs": [
    {
     "name": "stdout",
     "output_type": "stream",
     "text": [
      "(1.000002496774669, array([ 0.4082482 , -0.40824875, -0.8164964 ]))\n"
     ]
    }
   ],
   "source": [
    "import numpy as np\n",
    "\n",
    "def valor_propio(k):\n",
    "    z_sub_cero = np.array([3, 2, 1])\n",
    "    w_sub_cero = z_sub_cero / np.linalg.norm(z_sub_cero)\n",
    "\n",
    "    Matriz_A = np.array([[1, 2, -1], [1, 0, 1], [4, -4, 5]])\n",
    "    Matriz_A_inversa= np.linalg.inv(Matriz_A)\n",
    "    for i in range(k):\n",
    "        Z_k_1 = np.dot(Matriz_A_inversa, w_sub_cero)\n",
    "        w_k_1 = Z_k_1 / np.linalg.norm(Z_k_1)\n",
    "\n",
    "        w_sub_cero = w_k_1\n",
    "\n",
    "    w_k_1_transpuesto = np.transpose(w_k_1)\n",
    "    \n",
    "    \n",
    "\n",
    "    return 1.0/(np.dot(np.dot(w_sub_cero, Matriz_A), w_k_1_transpuesto)), -w_sub_cero\n",
    "\n",
    "\n",
    "print(valor_propio(20))\n",
    "\n"
   ]
  },
  {
   "cell_type": "code",
   "execution_count": null,
   "metadata": {},
   "outputs": [],
   "source": []
  }
 ],
 "metadata": {
  "kernelspec": {
   "display_name": "Python 3",
   "language": "python",
   "name": "python3"
  },
  "language_info": {
   "codemirror_mode": {
    "name": "ipython",
    "version": 3
   },
   "file_extension": ".py",
   "mimetype": "text/x-python",
   "name": "python",
   "nbconvert_exporter": "python",
   "pygments_lexer": "ipython3",
   "version": "3.11.4"
  }
 },
 "nbformat": 4,
 "nbformat_minor": 2
}
