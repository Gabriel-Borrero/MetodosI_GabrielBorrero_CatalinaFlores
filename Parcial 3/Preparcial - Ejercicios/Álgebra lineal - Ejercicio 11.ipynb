{
 "cells": [
  {
   "cell_type": "code",
   "execution_count": 5,
   "metadata": {},
   "outputs": [],
   "source": [
    "import numpy as np"
   ]
  },
  {
   "cell_type": "code",
   "execution_count": 6,
   "metadata": {},
   "outputs": [
    {
     "ename": "SyntaxError",
     "evalue": "closing parenthesis ')' does not match opening parenthesis '[' (1812060476.py, line 7)",
     "output_type": "error",
     "traceback": [
      "\u001b[1;36m  Cell \u001b[1;32mIn[6], line 7\u001b[1;36m\u001b[0m\n\u001b[1;33m    Matriz_A = np.array([[1, 2, -1], [1, 0, 1], [4, -4, 5])\u001b[0m\n\u001b[1;37m                                                          ^\u001b[0m\n\u001b[1;31mSyntaxError\u001b[0m\u001b[1;31m:\u001b[0m closing parenthesis ')' does not match opening parenthesis '['\n"
     ]
    }
   ],
   "source": [
    "import numpy as np\n",
    "\n",
    "def valor_propio(k):\n",
    "    z_sub_cero = np.array([1, 1, 1])\n",
    "    w_sub_cero = z_sub_cero / np.linalg.norm(z_sub_cero)\n",
    "\n",
    "    Matriz_A = np.array([[1, 2, -1], [1, 0, 1], [4, -4, 5]])\n",
    "\n",
    "    for i in range(k):\n",
    "        Z_k_1 = np.linalg.solve(Matriz_A, w_sub_cero)\n",
    "        w_k_1 = Z_k_1 / np.linalg.norm(Z_k_1)\n",
    "\n",
    "        w_sub_cero = w_k_1\n",
    "\n",
    "    w_k_1_transpuesto = np.transpose(w_k_1)\n",
    "\n",
    "    return 1.0 / np.dot(np.dot(w_sub_cero, Matriz_A), w_k_1_transpuesto), w_sub_cero\n",
    "\n",
    "Matriz_A = np.array([[1, 2, -1], [1, 0, 1], [4, -4, 5]])\n",
    "\n",
    "print(valor_propio(10))\n",
    "\n"
   ]
  },
  {
   "cell_type": "code",
   "execution_count": null,
   "metadata": {},
   "outputs": [],
   "source": []
  }
 ],
 "metadata": {
  "kernelspec": {
   "display_name": "Python 3",
   "language": "python",
   "name": "python3"
  },
  "language_info": {
   "codemirror_mode": {
    "name": "ipython",
    "version": 3
   },
   "file_extension": ".py",
   "mimetype": "text/x-python",
   "name": "python",
   "nbconvert_exporter": "python",
   "pygments_lexer": "ipython3",
   "version": "3.11.4"
  }
 },
 "nbformat": 4,
 "nbformat_minor": 2
}
