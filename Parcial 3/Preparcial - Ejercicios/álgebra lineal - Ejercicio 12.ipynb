{
 "cells": [
  {
   "cell_type": "code",
   "execution_count": 8,
   "id": "59fbc58c",
   "metadata": {},
   "outputs": [
    {
     "data": {
      "text/html": [
       "<style>.container { width:90% !important; }</style>"
      ],
      "text/plain": [
       "<IPython.core.display.HTML object>"
      ]
     },
     "metadata": {},
     "output_type": "display_data"
    }
   ],
   "source": [
    "from IPython.display import display, HTML\n",
    "display(HTML(\"<style>.container { width:90% !important; }</style>\"))\n",
    "import numpy as np\n",
    "import matplotlib.pyplot as plt"
   ]
  },
  {
   "cell_type": "code",
   "execution_count": 9,
   "id": "48ca9732",
   "metadata": {},
   "outputs": [],
   "source": [
    "# Definamos el sistema usando una lista\n",
    "G= np.array([lambda x1, x2:np.log(x1**2+x2**2)-np.sin(x1*x2)-np.log(2)-np.log(np.pi),\n",
    "     lambda x1, x2,: np.exp(x1-x2) + np.cos(x1*x2)])\n",
    "\n",
    "G2=np.array([lambda x1,x2,x3: 6*x1 - 2*np.cos(x3*x2) - 1, \n",
    "    lambda x1,x2,x3: 9*x2 + np.sqrt(x1**2+np.sin(x3)+1.06) +0.9, \n",
    "    lambda x1,x2,x3: 60*x3+3*np.exp(-x1*x2)+10*np.pi-3])"
   ]
  },
  {
   "cell_type": "code",
   "execution_count": 10,
   "id": "2362307e",
   "metadata": {},
   "outputs": [],
   "source": [
    "def GetF(G,r):\n",
    "    dim = len(G)    \n",
    "    v = np.zeros(dim)\n",
    "    if len(r)==2:\n",
    "        for i in range(dim):\n",
    "            v[i] = G[i](r[0],r[1])\n",
    "    elif len(r)==3:\n",
    "        for i in range(dim):\n",
    "            v[i] = G[i](r[0],r[1],r[2])\n",
    "    return v"
   ]
  },
  {
   "cell_type": "code",
   "execution_count": 11,
   "id": "66c743de",
   "metadata": {},
   "outputs": [],
   "source": [
    "def GetJacobian(f,r,h=1e-6):\n",
    "    \n",
    "    n = r.shape[0]\n",
    "    J = np.zeros((n,n))\n",
    "    \n",
    "    for i in range(n):\n",
    "        for j in range(n):\n",
    "            \n",
    "            rf = r.copy()\n",
    "            rb = r.copy()\n",
    "            \n",
    "            rf[j] = rf[j] + h\n",
    "            rb[j] = rb[j] - h\n",
    "            \n",
    "            if len(r)==2:\n",
    "                J[i,j] = (f[i](rf[0],rf[1]) - f[i](rb[0],rb[1]))/(2*h)\n",
    "                \n",
    "            if len(r)==3:\n",
    "                J[i,j] = (f[i](rf[0],rf[1],rf[2]) - f[i](rb[0],rb[1],rb[2]))/(2*h)\n",
    "            \n",
    "    \n",
    "    return J"
   ]
  },
  {
   "cell_type": "code",
   "execution_count": 12,
   "id": "aa800dbf",
   "metadata": {},
   "outputs": [],
   "source": [
    "def NewtonRaphson(G,r,itmax=1000,error=1e-9):\n",
    "    \n",
    "    it = 0\n",
    "    d = 1.\n",
    "    dvector = []\n",
    "    \n",
    "    while d > error and it < itmax:\n",
    "        \n",
    "        # Vector actual\n",
    "        rc = r\n",
    "        \n",
    "        F = GetF(G,rc)\n",
    "        J = GetJacobian(G,rc)\n",
    "        InvJ = np.linalg.inv(J)\n",
    "        \n",
    "        r = rc - np.dot(InvJ,F)\n",
    "        \n",
    "        diff = r - rc\n",
    "        \n",
    "        d = np.max( np.abs(diff) )\n",
    "        \n",
    "        dvector.append(d)\n",
    "        \n",
    "        \n",
    "        it += 1\n",
    "    \n",
    "\n",
    "    return r,dvector"
   ]
  },
  {
   "cell_type": "code",
   "execution_count": 13,
   "id": "f31ad5c7",
   "metadata": {},
   "outputs": [],
   "source": [
    "r,dvector = NewtonRaphson(G,np.array([2.0, 2.0])) # Aquí debo poner la taza de aprendizaje que quiero. "
   ]
  },
  {
   "cell_type": "code",
   "execution_count": 14,
   "id": "9c9550cd",
   "metadata": {},
   "outputs": [
    {
     "name": "stdout",
     "output_type": "stream",
     "text": [
      "[1.77245385 1.77245385]\n",
      "[0.5210944589431041, 0.23011830231864905, 0.05938786254984385, 0.004026892586169728, 1.5252177189450933e-05, 2.167681589781978e-10]\n"
     ]
    }
   ],
   "source": [
    "print(r)\n",
    "print(dvector)"
   ]
  },
  {
   "cell_type": "code",
   "execution_count": null,
   "id": "cba901de",
   "metadata": {},
   "outputs": [],
   "source": []
  },
  {
   "cell_type": "code",
   "execution_count": null,
   "id": "10e554e6",
   "metadata": {},
   "outputs": [],
   "source": []
  }
 ],
 "metadata": {
  "kernelspec": {
   "display_name": "Python 3 (ipykernel)",
   "language": "python",
   "name": "python3"
  },
  "language_info": {
   "codemirror_mode": {
    "name": "ipython",
    "version": 3
   },
   "file_extension": ".py",
   "mimetype": "text/x-python",
   "name": "python",
   "nbconvert_exporter": "python",
   "pygments_lexer": "ipython3",
   "version": "3.11.4"
  }
 },
 "nbformat": 4,
 "nbformat_minor": 5
}
