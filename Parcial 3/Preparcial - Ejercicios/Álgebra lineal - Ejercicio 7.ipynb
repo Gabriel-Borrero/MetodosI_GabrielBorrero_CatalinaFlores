{
 "cells": [
  {
   "cell_type": "code",
   "execution_count": 4,
   "metadata": {},
   "outputs": [
    {
     "data": {
      "text/html": [
       "<style>.container { width:100% !important; }</style>"
      ],
      "text/plain": [
       "<IPython.core.display.HTML object>"
      ]
     },
     "metadata": {},
     "output_type": "display_data"
    }
   ],
   "source": [
    "from IPython.display import display, HTML\n",
    "display(HTML(\"<style>.container { width:100% !important; }</style>\"))\n",
    "import numpy as np\n",
    "import matplotlib.pyplot as plt\n",
    "from IPython.display import clear_output\n",
    "import time"
   ]
  },
  {
   "cell_type": "code",
   "execution_count": 5,
   "metadata": {},
   "outputs": [],
   "source": [
    "def SOR(A, b, x0, omega, itmax=1000, tolerancia=1e-14):\n",
    "    x = x0.copy()\n",
    "    u = x.copy()\n",
    "    sumk = x.copy()\n",
    "\n",
    "    residuo = np.linalg.norm(np.dot(A, x) - b)\n",
    "\n",
    "    it = 0\n",
    "\n",
    "    while residuo >= tolerancia and it < itmax:\n",
    "        \n",
    "        u[:] = 0\n",
    "        sumk[:] = 0.\n",
    "\n",
    "        for i in range(A.shape[0]):\n",
    "            for j in range(A.shape[1]):\n",
    "                if i != j:\n",
    "                    sumk[i] += A[i, j] * x[j]\n",
    "\n",
    "            u[i] = (1 - omega) * x[i] + (omega / A[i, i]) * (b[i] - sumk[i])\n",
    "\n",
    "        x = u.copy()\n",
    "\n",
    "        residuo =np.max(np.abs(np.dot(A, x) - b))\n",
    "\n",
    "        it += 1\n",
    "\n",
    "        if residuo > 1000:\n",
    "            return x, 1000\n",
    "        \n",
    "        \n",
    "    return x, it"
   ]
  },
  {
   "cell_type": "code",
   "execution_count": 6,
   "metadata": {},
   "outputs": [
    {
     "name": "stdout",
     "output_type": "stream",
     "text": [
      "para un total de 30 iteraciones, se encontró un omega óptimo (dentro del modelo SOR) de 1.02 con un valor para la solución de [1. 1. 1.]\n"
     ]
    }
   ],
   "source": [
    "best_omega = None\n",
    "min_iterations = 10000000\n",
    "A = np.array([[3,-1,-1],[-1.,3.,1.],[2,1,4]])\n",
    "b = np.array([1.,3.,7.])\n",
    "x0=np.array([0.,0.,0.])\n",
    "for omega in np.arange(0, 2.0, 0.01):\n",
    "    x, iterations = SOR(A, b, x0, omega)\n",
    "    if iterations < min_iterations:\n",
    "        min_iterations = iterations\n",
    "        best_omega = omega\n",
    "\n",
    "x, it = SOR(A, b, x0, best_omega)\n",
    "        \n",
    "print(\"para un total de \" + str(min_iterations) + \" iteraciones, se encontró un omega óptimo (dentro del modelo SOR) de \" + str(best_omega) + \" con un valor para la solución de \" + str(x))\n"
   ]
  },
  {
   "cell_type": "code",
   "execution_count": null,
   "metadata": {},
   "outputs": [],
   "source": []
  }
 ],
 "metadata": {
  "kernelspec": {
   "display_name": "Python 3",
   "language": "python",
   "name": "python3"
  },
  "language_info": {
   "codemirror_mode": {
    "name": "ipython",
    "version": 3
   },
   "file_extension": ".py",
   "mimetype": "text/x-python",
   "name": "python",
   "nbconvert_exporter": "python",
   "pygments_lexer": "ipython3",
   "version": "3.11.4"
  }
 },
 "nbformat": 4,
 "nbformat_minor": 2
}
