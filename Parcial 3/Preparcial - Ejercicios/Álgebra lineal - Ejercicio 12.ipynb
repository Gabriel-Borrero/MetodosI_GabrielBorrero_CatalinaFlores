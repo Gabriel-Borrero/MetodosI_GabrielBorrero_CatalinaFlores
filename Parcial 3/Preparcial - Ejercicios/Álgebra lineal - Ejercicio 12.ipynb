{
 "cells": [
  {
   "cell_type": "code",
   "execution_count": 32,
   "metadata": {},
   "outputs": [],
   "source": [
    "import numpy as np\n",
    "import matplotlib.pyplot as plt\n"
   ]
  },
  {
   "cell_type": "code",
   "execution_count": 33,
   "metadata": {},
   "outputs": [],
   "source": [
    "G=(lambda x1,x2: np.log(x1**2+x2**2)-np.sin(x1*x2)-np.log(2)-np.log(np.pi), \\\n",
    "   lambda x1,x2: np.exp(x1-x2) + np.cos(x1*x2))"
   ]
  },
  {
   "cell_type": "code",
   "execution_count": 34,
   "metadata": {},
   "outputs": [],
   "source": [
    "def GetVectorF(G,r):\n",
    "    dim = len(G)    \n",
    "    v = np.zeros(dim)\n",
    "    if len(r)==2:\n",
    "        for i in range(dim):\n",
    "            v[i] = G[i](r[0],r[1])\n",
    "    elif len(r)==3:\n",
    "        for i in range(dim):\n",
    "            v[i] = G[i](r[0],r[1],r[2])\n",
    "    return v"
   ]
  },
  {
   "cell_type": "code",
   "execution_count": 35,
   "metadata": {},
   "outputs": [],
   "source": [
    "def GetJacobian(G,r,h=1e-6):\n",
    "    \n",
    "    dim = len(G)\n",
    "    \n",
    "    J = np.zeros((dim,dim))\n",
    "    \n",
    "    for i in range(dim):\n",
    "        J[i,0] = (  G[i](r[0]+h,r[1]) - G[i](r[0]-h,r[1]) )/(2*h)\n",
    "        J[i,1] = (  G[i](r[0],r[1]+h) - G[i](r[0],r[1]-h) )/(2*h)\n",
    "        \n",
    "    return J.T"
   ]
  },
  {
   "cell_type": "code",
   "execution_count": 36,
   "metadata": {},
   "outputs": [],
   "source": [
    "def GetMetric(G,r):\n",
    "    v = GetVectorF(G,r)\n",
    "    return 0.5*np.linalg.norm(v)**2"
   ]
  },
  {
   "cell_type": "code",
   "execution_count": 37,
   "metadata": {},
   "outputs": [],
   "source": [
    "def GetSolve(G,r,lr=1e-3,epochs=int(1e5),error=1e-7): # Cumple la función de minimizer o newthon rapson generalizado, pero implementado de una manera más entendible\n",
    "    d = 1\n",
    "    it = 0\n",
    "    Vector_F = np.array([])\n",
    "    R_vector = np.array(r)\n",
    "    while d > error and it < epochs:\n",
    "        \n",
    "        CurrentF = GetMetric(G,r)\n",
    "        J = GetJacobian(G,r)\n",
    "        GVector = GetVectorF(G,r)\n",
    "        #Machine Learning\n",
    "        r -= lr*np.dot(J,GVector) \n",
    "        R_vector = np.vstack((R_vector,r))\n",
    "        NewF = GetMetric(G,r)\n",
    "        Vector_F = np.append(Vector_F,NewF)\n",
    "        d = np.abs( CurrentF - NewF )/NewF\n",
    "\n",
    "        it += 1\n",
    "        \n",
    "    return r,it"
   ]
  },
  {
   "cell_type": "code",
   "execution_count": 38,
   "metadata": {},
   "outputs": [
    {
     "name": "stdout",
     "output_type": "stream",
     "text": [
      "la solución para el sistema de acuaciones es: [1.77245385 1.77245385] la cual tomó un total de iteraciones de: 13218\n"
     ]
    }
   ],
   "source": [
    "xsol,it= GetSolve(G,[2,2])\n",
    "print(\"la solución para el sistema de acuaciones es: \" +str(xsol)+ \" la cual tomó un total de iteraciones de: \"+str(it))"
   ]
  },
  {
   "cell_type": "code",
   "execution_count": 39,
   "metadata": {},
   "outputs": [],
   "source": [
    "G2=(lambda x1,x2,x3: 6*x1 - 2*np.cos(x3*x2) - 1, \\\n",
    "    lambda x1,x2,x3: 9*x2 + np.sqrt(x1**2+np.sin(x3)+1.06) +0.9, \\\n",
    "    lambda x1,x2,x3: 60*x3+3*np.exp(-x1*x2)+10*np.pi-3)"
   ]
  },
  {
   "cell_type": "code",
   "execution_count": 40,
   "metadata": {},
   "outputs": [],
   "source": [
    "def GetJacobian2(G2,r2,h=1e-6):\n",
    "    \n",
    "    dim = len(G2)\n",
    "    \n",
    "    J = np.zeros((dim,dim))\n",
    "    \n",
    "    for i in range(dim):\n",
    "        J[i,0] = (  G2[i](r2[0]+h,r2[1],r2[2]) - G2[i](r2[0]-h,r2[1],r2[2]) )/(2*h)\n",
    "        J[i,1] = (  G2[i](r2[0],r2[1]+h,r2[2]) - G2[i](r2[0],r2[1]-h,r2[2]) )/(2*h)\n",
    "        J[i,2] = (  G2[i](r2[0],r2[1],r2[2]+h) - G2[i](r2[0],r2[1],r2[2]-h) )/(2*h)\n",
    "        \n",
    "    return J.T"
   ]
  },
  {
   "cell_type": "code",
   "execution_count": 45,
   "metadata": {},
   "outputs": [],
   "source": [
    "def GetSolve2(G2,r2,lr=1e-4,epochs=int(1e5),error=1e-7):\n",
    "    d = 1\n",
    "    it = 0\n",
    "    Vector_F = np.array([])\n",
    "    R_vector = np.array(r2)\n",
    "    while d > error and it < epochs:\n",
    "        \n",
    "        CurrentF = GetMetric(G2,r2)\n",
    "        J = GetJacobian2(G2,r2)\n",
    "        GVector = GetVectorF(G2,r2)\n",
    "        #Machine Learning\n",
    "        r2 -= lr*np.dot(J,GVector) \n",
    "        R_vector = np.vstack((R_vector,r2))\n",
    "        NewF = GetMetric(G2,r2)\n",
    "        Vector_F = np.append(Vector_F,NewF)\n",
    "        d = np.abs( CurrentF - NewF )/NewF\n",
    "        it += 1\n",
    "      \n",
    "\n",
    "\n",
    "    return r2,it"
   ]
  },
  {
   "cell_type": "code",
   "execution_count": 42,
   "metadata": {},
   "outputs": [],
   "source": [
    "xsol,it= GetSolve2(G2,[0,0,0])"
   ]
  },
  {
   "cell_type": "code",
   "execution_count": 43,
   "metadata": {},
   "outputs": [
    {
     "name": "stdout",
     "output_type": "stream",
     "text": [
      "la solución para el sistema de acuaciones es: [ 0.49814468 -0.1996059  -0.52882598] la cual tomó un total de iteraciones de: 8536\n"
     ]
    }
   ],
   "source": [
    "print(\"la solución para el sistema de acuaciones es: \" +str(xsol)+ \" la cual tomó un total de iteraciones de: \"+str(it))"
   ]
  }
 ],
 "metadata": {
  "kernelspec": {
   "display_name": "Python 3",
   "language": "python",
   "name": "python3"
  },
  "language_info": {
   "codemirror_mode": {
    "name": "ipython",
    "version": 3
   },
   "file_extension": ".py",
   "mimetype": "text/x-python",
   "name": "python",
   "nbconvert_exporter": "python",
   "pygments_lexer": "ipython3",
   "version": "3.11.4"
  }
 },
 "nbformat": 4,
 "nbformat_minor": 2
}
