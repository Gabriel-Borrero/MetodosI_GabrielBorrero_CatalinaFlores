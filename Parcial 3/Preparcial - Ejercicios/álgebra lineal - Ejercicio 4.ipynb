{
 "cells": [
  {
   "cell_type": "code",
   "execution_count": 14,
   "metadata": {},
   "outputs": [
    {
     "name": "stdout",
     "output_type": "stream",
     "text": [
      "[[ 5 -2  3]]\n",
      "(1, 3)\n",
      "0 0 0\n",
      "0 0 1\n",
      "0 0 2\n",
      "1 0 0\n",
      "1 0 1\n",
      "1 0 2\n",
      "2 0 0\n",
      "2 0 1\n",
      "2 0 2\n",
      "3 0 0\n",
      "3 0 1\n",
      "3 0 2\n",
      "4 0 0\n",
      "4 0 1\n",
      "4 0 2\n",
      "[[ 27.]\n",
      " [ 47.]\n",
      " [-12.]\n",
      " [-24.]\n",
      " [ 14.]]\n"
     ]
    }
   ],
   "source": [
    "import numpy as np\n",
    "\n",
    "A = np.array([[5, -4, -2],[5, -5, 4],[2, 5, -4], [-5, 4, 3], [3, -4, -3]])\n",
    "\n",
    "B = np.array([[5, -2, 3 ]])\n",
    "\n",
    "def multiplicacion(A,B):\n",
    "      \n",
    "    M,N = A.shape\n",
    "    R,T = B.shape\n",
    "    print(B) \n",
    "    print(B.shape)\n",
    "    if R==1:\n",
    "        B=B.reshape(T, R)\n",
    "        R,T = B.shape\n",
    "   \n",
    "\n",
    "    C = np.zeros(shape=(M, T))\n",
    "    \n",
    "    if N==R:\n",
    "\n",
    "        for i in range(M):\n",
    "            for j in range(T):\n",
    "                for k in range(0,N):\n",
    "                    print(i,j,k)\n",
    "                    C[i,j] += A[i,k]*(B[k,j])\n",
    "        \n",
    "        return C\n",
    "    \n",
    "print(multiplicacion(A,B))"
   ]
  }
 ],
 "metadata": {
  "kernelspec": {
   "display_name": "Python 3",
   "language": "python",
   "name": "python3"
  },
  "language_info": {
   "codemirror_mode": {
    "name": "ipython",
    "version": 3
   },
   "file_extension": ".py",
   "mimetype": "text/x-python",
   "name": "python",
   "nbconvert_exporter": "python",
   "pygments_lexer": "ipython3",
   "version": "3.11.4"
  }
 },
 "nbformat": 4,
 "nbformat_minor": 2
}
