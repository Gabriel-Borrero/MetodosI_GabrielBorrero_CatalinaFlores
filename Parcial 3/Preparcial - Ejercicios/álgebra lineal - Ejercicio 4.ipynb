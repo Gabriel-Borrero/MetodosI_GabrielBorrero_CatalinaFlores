{
 "cells": [
  {
   "cell_type": "code",
   "execution_count": 2,
   "metadata": {},
   "outputs": [
    {
     "name": "stdout",
     "output_type": "stream",
     "text": [
      "mediante nuestro algoritmo de multiplicación de matrices obtenermos el siguiente resultado\n",
      "\n",
      "[[ 4. -2.  1.]\n",
      " [20. -7. 12.]\n",
      " [-8. 13. 21.]]\n"
     ]
    }
   ],
   "source": [
    "import numpy as np\n",
    "\n",
    "A = np.array([[1, 0, 0],[5, 1, 0],[-2, 3, 1]])\n",
    "\n",
    "B = np.array([[4, -2, 1],[0, 3, 7],[0, 0, 2]])\n",
    "\n",
    "def multiplicacion(A,B):\n",
    "      \n",
    "    M,N = A.shape\n",
    "    R,T = B.shape\n",
    "    \n",
    "\n",
    "    if R==1:\n",
    "        B=B.reshape(T, R)\n",
    "        R,T = B.shape\n",
    "   \n",
    "\n",
    "    C = np.zeros(shape=(M, T))\n",
    "    \n",
    "    if N==R:\n",
    "\n",
    "        for i in range(M):\n",
    "            for j in range(T):\n",
    "                for k in range(0,N):\n",
    "                    C[i,j] += A[i,k]*(B[k,j])\n",
    "        \n",
    "        return C\n",
    "    \n",
    "print(\"mediante nuestro algoritmo de multiplicación de matrices obtenermos el siguiente resultado\\n\")\n",
    "print(multiplicacion(A,B))"
   ]
  }
 ],
 "metadata": {
  "kernelspec": {
   "display_name": "Python 3",
   "language": "python",
   "name": "python3"
  },
  "language_info": {
   "codemirror_mode": {
    "name": "ipython",
    "version": 3
   },
   "file_extension": ".py",
   "mimetype": "text/x-python",
   "name": "python",
   "nbconvert_exporter": "python",
   "pygments_lexer": "ipython3",
   "version": "3.11.4"
  }
 },
 "nbformat": 4,
 "nbformat_minor": 2
}
