{
 "cells": [
  {
   "cell_type": "code",
   "execution_count": 45,
   "metadata": {},
   "outputs": [
    {
     "data": {
      "text/html": [
       "<style>.container { width:90% !important; }</style>"
      ],
      "text/plain": [
       "<IPython.core.display.HTML object>"
      ]
     },
     "metadata": {},
     "output_type": "display_data"
    }
   ],
   "source": [
    "from IPython.display import display, HTML\n",
    "display(HTML(\"<style>.container { width:90% !important; }</style>\"))\n",
    "import numpy as np\n",
    "import sympy as sym"
   ]
  },
  {
   "cell_type": "code",
   "execution_count": 46,
   "metadata": {},
   "outputs": [],
   "source": [
    "q = 3e-4\n",
    "L = 5 \n",
    "g = 10\n",
    "w = 114.6\n",
    "k = 9e9\n",
    "\n",
    "constante = (((k**2)*(q**4))/((L**4)*(w**2)))*((((4*np.sqrt(2))+2)/8)**2)"
   ]
  },
  {
   "cell_type": "code",
   "execution_count": 47,
   "metadata": {},
   "outputs": [
    {
     "data": {
      "text/plain": [
       "0.07322199739508199"
      ]
     },
     "execution_count": 47,
     "metadata": {},
     "output_type": "execute_result"
    }
   ],
   "source": [
    "constante"
   ]
  },
  {
   "cell_type": "code",
   "execution_count": 48,
   "metadata": {},
   "outputs": [],
   "source": [
    "x = sym.Symbol('x',real=True)\n",
    "y = sym.Symbol('y',real=True)"
   ]
  },
  {
   "cell_type": "code",
   "execution_count": 49,
   "metadata": {},
   "outputs": [],
   "source": [
    "def f(x,y,c):\n",
    "    \n",
    "    z = x + sym.I*y\n",
    "    f = (z)**6 + (c*(z)**2) - c \n",
    "    f = f.expand()\n",
    "    return sym.re(f),sym.im(f)"
   ]
  },
  {
   "cell_type": "code",
   "execution_count": 50,
   "metadata": {},
   "outputs": [
    {
     "data": {
      "text/plain": [
       "[x**6 - 15*x**4*y**2 + 15*x**2*y**4 + 0.073221997395082*x**2 - y**6 - 0.073221997395082*y**2 - 0.073221997395082,\n",
       " 6*x**5*y - 20*x**3*y**3 + 6*x*y**5 + 0.146443994790164*x*y]"
      ]
     },
     "execution_count": 50,
     "metadata": {},
     "output_type": "execute_result"
    }
   ],
   "source": [
    "f0,f1 = f(x,y,constante)\n",
    "F = [f0,f1]\n",
    "F"
   ]
  },
  {
   "cell_type": "code",
   "execution_count": 51,
   "metadata": {},
   "outputs": [],
   "source": [
    "J = sym.zeros(2,2)\n",
    "\n",
    "for i in range(2):\n",
    "    for j in range(2):\n",
    "        if j==0:\n",
    "            J[i,j] = sym.diff(F[i],x,1)\n",
    "        else:\n",
    "            J[i,j] = sym.diff(F[i],y,1)"
   ]
  },
  {
   "cell_type": "code",
   "execution_count": 52,
   "metadata": {},
   "outputs": [
    {
     "data": {
      "text/latex": [
       "$\\displaystyle \\left[\\begin{matrix}6 x^{5} - 60 x^{3} y^{2} + 30 x y^{4} + 0.146443994790164 x & - 30 x^{4} y + 60 x^{2} y^{3} - 6 y^{5} - 0.146443994790164 y\\\\30 x^{4} y - 60 x^{2} y^{3} + 6 y^{5} + 0.146443994790164 y & 6 x^{5} - 60 x^{3} y^{2} + 30 x y^{4} + 0.146443994790164 x\\end{matrix}\\right]$"
      ],
      "text/plain": [
       "Matrix([\n",
       "[6*x**5 - 60*x**3*y**2 + 30*x*y**4 + 0.146443994790164*x, -30*x**4*y + 60*x**2*y**3 - 6*y**5 - 0.146443994790164*y],\n",
       "[30*x**4*y - 60*x**2*y**3 + 6*y**5 + 0.146443994790164*y,  6*x**5 - 60*x**3*y**2 + 30*x*y**4 + 0.146443994790164*x]])"
      ]
     },
     "execution_count": 52,
     "metadata": {},
     "output_type": "execute_result"
    }
   ],
   "source": [
    "J"
   ]
  },
  {
   "cell_type": "code",
   "execution_count": 53,
   "metadata": {},
   "outputs": [
    {
     "data": {
      "text/latex": [
       "$\\displaystyle \\left[\\begin{matrix}\\frac{1 + \\frac{\\left(- 30 x^{4} y + 60 x^{2} y^{3} - 6 y^{5} - 0.146443994790164 y\\right) \\left(30 x^{4} y - 60 x^{2} y^{3} + 6 y^{5} + 0.146443994790164 y\\right)}{\\left(6 x^{5} - 60 x^{3} y^{2} + 30 x y^{4} + 0.146443994790164 x\\right) \\left(6 x^{5} - 60 x^{3} y^{2} + 30 x y^{4} + 0.146443994790164 x - \\frac{\\left(- 30 x^{4} y + 60 x^{2} y^{3} - 6 y^{5} - 0.146443994790164 y\\right) \\left(30 x^{4} y - 60 x^{2} y^{3} + 6 y^{5} + 0.146443994790164 y\\right)}{6 x^{5} - 60 x^{3} y^{2} + 30 x y^{4} + 0.146443994790164 x}\\right)}}{6 x^{5} - 60 x^{3} y^{2} + 30 x y^{4} + 0.146443994790164 x} & - \\frac{- 30 x^{4} y + 60 x^{2} y^{3} - 6 y^{5} - 0.146443994790164 y}{\\left(6 x^{5} - 60 x^{3} y^{2} + 30 x y^{4} + 0.146443994790164 x\\right) \\left(6 x^{5} - 60 x^{3} y^{2} + 30 x y^{4} + 0.146443994790164 x - \\frac{\\left(- 30 x^{4} y + 60 x^{2} y^{3} - 6 y^{5} - 0.146443994790164 y\\right) \\left(30 x^{4} y - 60 x^{2} y^{3} + 6 y^{5} + 0.146443994790164 y\\right)}{6 x^{5} - 60 x^{3} y^{2} + 30 x y^{4} + 0.146443994790164 x}\\right)}\\\\- \\frac{30 x^{4} y - 60 x^{2} y^{3} + 6 y^{5} + 0.146443994790164 y}{\\left(6 x^{5} - 60 x^{3} y^{2} + 30 x y^{4} + 0.146443994790164 x\\right) \\left(6 x^{5} - 60 x^{3} y^{2} + 30 x y^{4} + 0.146443994790164 x - \\frac{\\left(- 30 x^{4} y + 60 x^{2} y^{3} - 6 y^{5} - 0.146443994790164 y\\right) \\left(30 x^{4} y - 60 x^{2} y^{3} + 6 y^{5} + 0.146443994790164 y\\right)}{6 x^{5} - 60 x^{3} y^{2} + 30 x y^{4} + 0.146443994790164 x}\\right)} & \\frac{1}{6 x^{5} - 60 x^{3} y^{2} + 30 x y^{4} + 0.146443994790164 x - \\frac{\\left(- 30 x^{4} y + 60 x^{2} y^{3} - 6 y^{5} - 0.146443994790164 y\\right) \\left(30 x^{4} y - 60 x^{2} y^{3} + 6 y^{5} + 0.146443994790164 y\\right)}{6 x^{5} - 60 x^{3} y^{2} + 30 x y^{4} + 0.146443994790164 x}}\\end{matrix}\\right]$"
      ],
      "text/plain": [
       "Matrix([\n",
       "[(1 + (-30*x**4*y + 60*x**2*y**3 - 6*y**5 - 0.146443994790164*y)*(30*x**4*y - 60*x**2*y**3 + 6*y**5 + 0.146443994790164*y)/((6*x**5 - 60*x**3*y**2 + 30*x*y**4 + 0.146443994790164*x)*(6*x**5 - 60*x**3*y**2 + 30*x*y**4 + 0.146443994790164*x - (-30*x**4*y + 60*x**2*y**3 - 6*y**5 - 0.146443994790164*y)*(30*x**4*y - 60*x**2*y**3 + 6*y**5 + 0.146443994790164*y)/(6*x**5 - 60*x**3*y**2 + 30*x*y**4 + 0.146443994790164*x))))/(6*x**5 - 60*x**3*y**2 + 30*x*y**4 + 0.146443994790164*x), -(-30*x**4*y + 60*x**2*y**3 - 6*y**5 - 0.146443994790164*y)/((6*x**5 - 60*x**3*y**2 + 30*x*y**4 + 0.146443994790164*x)*(6*x**5 - 60*x**3*y**2 + 30*x*y**4 + 0.146443994790164*x - (-30*x**4*y + 60*x**2*y**3 - 6*y**5 - 0.146443994790164*y)*(30*x**4*y - 60*x**2*y**3 + 6*y**5 + 0.146443994790164*y)/(6*x**5 - 60*x**3*y**2 + 30*x*y**4 + 0.146443994790164*x)))],\n",
       "[                                                                                                                          -(30*x**4*y - 60*x**2*y**3 + 6*y**5 + 0.146443994790164*y)/((6*x**5 - 60*x**3*y**2 + 30*x*y**4 + 0.146443994790164*x)*(6*x**5 - 60*x**3*y**2 + 30*x*y**4 + 0.146443994790164*x - (-30*x**4*y + 60*x**2*y**3 - 6*y**5 - 0.146443994790164*y)*(30*x**4*y - 60*x**2*y**3 + 6*y**5 + 0.146443994790164*y)/(6*x**5 - 60*x**3*y**2 + 30*x*y**4 + 0.146443994790164*x))),                                                                                                                       1/(6*x**5 - 60*x**3*y**2 + 30*x*y**4 + 0.146443994790164*x - (-30*x**4*y + 60*x**2*y**3 - 6*y**5 - 0.146443994790164*y)*(30*x**4*y - 60*x**2*y**3 + 6*y**5 + 0.146443994790164*y)/(6*x**5 - 60*x**3*y**2 + 30*x*y**4 + 0.146443994790164*x))]])"
      ]
     },
     "execution_count": 53,
     "metadata": {},
     "output_type": "execute_result"
    }
   ],
   "source": [
    "InvJ = J.inv(method='LU')\n",
    "InvJ"
   ]
  },
  {
   "cell_type": "code",
   "execution_count": 54,
   "metadata": {},
   "outputs": [],
   "source": [
    "Fn = sym.lambdify([x,y],F,'numpy')\n",
    "IJn = sym.lambdify([x,y],InvJ,'numpy')"
   ]
  },
  {
   "cell_type": "code",
   "execution_count": 55,
   "metadata": {},
   "outputs": [],
   "source": [
    "def NewtonRaphson(z,Fn,Jn,itmax=100,precision=1e-20):\n",
    "    \n",
    "    error = 1\n",
    "    it = 0\n",
    "    \n",
    "    while error > precision and it < itmax:\n",
    "        \n",
    "        IFn = Fn(z[0],z[1])\n",
    "        IJn = Jn(z[0],z[1])\n",
    "        \n",
    "        z1 = z - np.dot(IJn,IFn)\n",
    "        \n",
    "        error = np.max( np.abs(z1-z) )\n",
    "        \n",
    "        z = z1\n",
    "        it +=1\n",
    "        \n",
    "    #print(it)\n",
    "    return z"
   ]
  },
  {
   "cell_type": "code",
   "execution_count": 56,
   "metadata": {},
   "outputs": [
    {
     "name": "stdout",
     "output_type": "stream",
     "text": [
      "Las 6 raices son:\n",
      "[(-0.60037, -0.0), (-0.36776, -0.56167), (-0.36776, 0.56167), (0.36776, -0.56167), (0.36776, 0.56167), (0.60037, 0.0)]\n",
      "Las raices reales son: \n",
      "[-0.60037, 0.60037]\n"
     ]
    }
   ],
   "source": [
    "\n",
    "x_range = np.linspace(-3.5, 3.5, 10)\n",
    "y_range = np.linspace(-3, 3, 8)\n",
    "\n",
    "roots = []\n",
    "roots_reals = []\n",
    "for x_val in x_range:\n",
    "    for y_val in y_range:\n",
    "        z0 = np.array([x_val, y_val])\n",
    "        zsol = NewtonRaphson(z0, Fn, IJn)\n",
    "        zsol =  np.round(zsol,5)\n",
    "        roots.append(zsol)\n",
    "\n",
    "unique_roots = [tuple(root) for root in np.unique(roots, axis=0)]\n",
    "\n",
    "\n",
    "for roots in unique_roots:\n",
    "    \n",
    "    if roots[1]==0.0 or roots[1]==-0.0:\n",
    "        roots_reals.append(roots[0])\n",
    "        \n",
    "print(\"Para el punto b: \")   \n",
    "print(\"Las 6 raices son:\")\n",
    "print(unique_roots)\n",
    "print(\"Las raices reales son: \")\n",
    "print(roots_reals)"
   ]
  },
  {
   "cell_type": "code",
   "execution_count": 64,
   "metadata": {},
   "outputs": [
    {
     "name": "stdout",
     "output_type": "stream",
     "text": [
      "-0.6439636890524661\n",
      "-36.896401542381206\n",
      "0.6439636890524661\n",
      "36.896401542381206\n",
      "Para el punto C\n",
      "Finalmente, el angulo que responde a la pregunta es el positivo, por la disposición del problema, el cual es 36.896401542381206\n"
     ]
    }
   ],
   "source": [
    "\n",
    "for teta in roots_reals:\n",
    "    angulo=np.arcsin(teta)\n",
    "    print(angulo)\n",
    "    print(angulo*(180/np.pi))\n",
    " \n",
    "print(\"Para el punto C\")    \n",
    "print(\"Finalmente, el angulo que responde a la pregunta es el positivo, por la disposición del problema, el cual es 36.896401542381206\")\n",
    "\n"
   ]
  },
  {
   "cell_type": "code",
   "execution_count": 63,
   "metadata": {},
   "outputs": [
    {
     "name": "stdout",
     "output_type": "stream",
     "text": [
      "0.236692669352622\n"
     ]
    }
   ],
   "source": [
    "#print(sym.sin(0.6439636890524661)**(6)+(729/1000)*(sym.sin(0.6439636890524661)**2)-(729/10000))\n"
   ]
  }
 ],
 "metadata": {
  "kernelspec": {
   "display_name": "base",
   "language": "python",
   "name": "python3"
  },
  "language_info": {
   "codemirror_mode": {
    "name": "ipython",
    "version": 3
   },
   "file_extension": ".py",
   "mimetype": "text/x-python",
   "name": "python",
   "nbconvert_exporter": "python",
   "pygments_lexer": "ipython3",
   "version": "3.11.4"
  }
 },
 "nbformat": 4,
 "nbformat_minor": 2
}
