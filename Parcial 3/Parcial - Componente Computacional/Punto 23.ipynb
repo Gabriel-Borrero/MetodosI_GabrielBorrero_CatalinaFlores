{
 "cells": [
  {
   "cell_type": "code",
   "execution_count": 93,
   "metadata": {},
   "outputs": [
    {
     "data": {
      "text/html": [
       "<style>.container { width:90% !important; }</style>"
      ],
      "text/plain": [
       "<IPython.core.display.HTML object>"
      ]
     },
     "metadata": {},
     "output_type": "display_data"
    }
   ],
   "source": [
    "from IPython.display import display, HTML\n",
    "display(HTML(\"<style>.container { width:90% !important; }</style>\"))\n",
    "import numpy as np\n",
    "import sympy as sym"
   ]
  },
  {
   "cell_type": "code",
   "execution_count": 94,
   "metadata": {},
   "outputs": [],
   "source": [
    "A = np.array([[0.2, 0.1, 1.0, 1.0, 0.0],[0.1, 4.0, -1.0, 1.0, -1.0],[1.0, -1.0, 60.0, 0.0, -2.0], [1.0, 1.0, 0.0, 8.0, 4.0], [0.0, -1.0, -2.0, 4.0, 700.0]])\n",
    "b= np.array([1.0, 2.0, 3.0, 4.0, 5.0])"
   ]
  },
  {
   "cell_type": "code",
   "execution_count": 95,
   "metadata": {},
   "outputs": [
    {
     "name": "stdout",
     "output_type": "stream",
     "text": [
      "(array([ 7.85971308,  0.42292641, -0.07359224, -0.54064302,  0.01062616]), 5)\n"
     ]
    }
   ],
   "source": [
    "def descenso_conjugado(A, b, x0, e=0.01):\n",
    "    rk= np.dot(A, x0) - b\n",
    "    po= -rk\n",
    "    k=0\n",
    "    it=0\n",
    "    \n",
    "    while np.max(np.abs(rk)) > e:\n",
    "        rk_transpuesto= np.transpose(rk)\n",
    "        po_transpuesto= np.transpose(po)\n",
    "        \n",
    "        alfak= -(((np.dot(rk_transpuesto, po)))/(np.dot(np.dot(po_transpuesto,A),po)))\n",
    "        xk= x0 + np.dot(alfak, po)\n",
    "        rk_1=np.dot(A, xk) - b\n",
    "        rk_1_transpuesto=np.transpose(rk_1)\n",
    "        betak=(np.dot(np.dot(rk_1_transpuesto, A),po))/(np.dot(np.dot(po_transpuesto, A),po))\n",
    "        pk=-rk_1+betak*po\n",
    "        \n",
    "        k=k+1\n",
    "        rk=rk_1\n",
    "        x0=xk\n",
    "        po=pk\n",
    "        it+=1\n",
    "        \n",
    "        \n",
    "        \n",
    "    \n",
    "    return xk, it\n",
    "\n",
    "\n",
    "\n",
    "print(\"La solución del sistema es\")\n",
    "print(descenso_conjugado(A, b, x0=np.array([0.0, 0.0, 0.0, 0.0, 0.0])))\n",
    "print(\"la cual se calcula en 5 iteraciones\")\n",
    "\n",
    "\n",
    "    \n"
   ]
  }
 ],
 "metadata": {
  "kernelspec": {
   "display_name": "Python 3",
   "language": "python",
   "name": "python3"
  },
  "language_info": {
   "codemirror_mode": {
    "name": "ipython",
    "version": 3
   },
   "file_extension": ".py",
   "mimetype": "text/x-python",
   "name": "python",
   "nbconvert_exporter": "python",
   "pygments_lexer": "ipython3",
   "version": "3.11.4"
  }
 },
 "nbformat": 4,
 "nbformat_minor": 2
}
