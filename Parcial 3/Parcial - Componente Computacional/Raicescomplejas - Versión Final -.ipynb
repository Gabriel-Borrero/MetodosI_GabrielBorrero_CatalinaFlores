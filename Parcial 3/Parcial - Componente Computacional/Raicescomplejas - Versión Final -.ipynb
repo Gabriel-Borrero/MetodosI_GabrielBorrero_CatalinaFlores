{
 "cells": [
  {
   "cell_type": "code",
   "execution_count": 30,
   "metadata": {},
   "outputs": [
    {
     "data": {
      "text/html": [
       "<style>.container { width:90% !important; }</style>"
      ],
      "text/plain": [
       "<IPython.core.display.HTML object>"
      ]
     },
     "metadata": {},
     "output_type": "display_data"
    }
   ],
   "source": [
    "from IPython.display import display, HTML\n",
    "display(HTML(\"<style>.container { width:90% !important; }</style>\"))\n",
    "import numpy as np\n",
    "import sympy as sym"
   ]
  },
  {
   "cell_type": "code",
   "execution_count": 31,
   "metadata": {},
   "outputs": [],
   "source": [
    "q = 3e-4\n",
    "L = 5 \n",
    "g = 10\n",
    "w = 114.6\n",
    "k = 9e9\n",
    "\n",
    "constante = (((k**2)*(q**4))/((L**4)*(w**2)))*((((4*np.sqrt(2))+2)/8)**2)"
   ]
  },
  {
   "cell_type": "code",
   "execution_count": 32,
   "metadata": {},
   "outputs": [
    {
     "data": {
      "text/plain": [
       "0.07322199739508199"
      ]
     },
     "execution_count": 32,
     "metadata": {},
     "output_type": "execute_result"
    }
   ],
   "source": [
    "constante"
   ]
  },
  {
   "cell_type": "code",
   "execution_count": 33,
   "metadata": {},
   "outputs": [],
   "source": [
    "x = sym.Symbol('x',real=True)\n",
    "y = sym.Symbol('y',real=True)"
   ]
  },
  {
   "cell_type": "code",
   "execution_count": 34,
   "metadata": {},
   "outputs": [],
   "source": [
    "def f(x,y,c):\n",
    "    \n",
    "    z = x + sym.I*y\n",
    "    f = sym.sin(z)**6 + (c*(sym.sin(z)**2))-c #- dependen si me piden con polinomio o con senos (z)**6 + (c*(z)**2) - c \n",
    "    f = f.expand()\n",
    "    return sym.re(f),sym.im(f)"
   ]
  },
  {
   "cell_type": "code",
   "execution_count": 35,
   "metadata": {},
   "outputs": [
    {
     "data": {
      "text/plain": [
       "[sin(x)**6*cosh(y)**6 - 15*sin(x)**4*cos(x)**2*sinh(y)**2*cosh(y)**4 + 15*sin(x)**2*cos(x)**4*sinh(y)**4*cosh(y)**2 + 0.073221997395082*sin(x)**2*cosh(y)**2 - cos(x)**6*sinh(y)**6 - 0.073221997395082*cos(x)**2*sinh(y)**2 - 0.073221997395082,\n",
       " 6*sin(x)**5*cos(x)*sinh(y)*cosh(y)**5 - 20*sin(x)**3*cos(x)**3*sinh(y)**3*cosh(y)**3 + 6*sin(x)*cos(x)**5*sinh(y)**5*cosh(y) + 0.146443994790164*sin(x)*cos(x)*sinh(y)*cosh(y)]"
      ]
     },
     "execution_count": 35,
     "metadata": {},
     "output_type": "execute_result"
    }
   ],
   "source": [
    "f0,f1 = f(x,y,constante)\n",
    "F = [f0,f1]\n",
    "F"
   ]
  },
  {
   "cell_type": "code",
   "execution_count": 36,
   "metadata": {},
   "outputs": [],
   "source": [
    "J = sym.zeros(2,2)\n",
    "\n",
    "for i in range(2):\n",
    "    for j in range(2):\n",
    "        if j==0:\n",
    "            J[i,j] = sym.diff(F[i],x,1)\n",
    "        else:\n",
    "            J[i,j] = sym.diff(F[i],y,1)"
   ]
  },
  {
   "cell_type": "code",
   "execution_count": 37,
   "metadata": {},
   "outputs": [
    {
     "data": {
      "text/latex": [
       "$\\displaystyle \\left[\\begin{matrix}30 \\sin^{5}{\\left(x \\right)} \\cos{\\left(x \\right)} \\sinh^{2}{\\left(y \\right)} \\cosh^{4}{\\left(y \\right)} + 6 \\sin^{5}{\\left(x \\right)} \\cos{\\left(x \\right)} \\cosh^{6}{\\left(y \\right)} - 60 \\sin^{3}{\\left(x \\right)} \\cos^{3}{\\left(x \\right)} \\sinh^{4}{\\left(y \\right)} \\cosh^{2}{\\left(y \\right)} - 60 \\sin^{3}{\\left(x \\right)} \\cos^{3}{\\left(x \\right)} \\sinh^{2}{\\left(y \\right)} \\cosh^{4}{\\left(y \\right)} + 6 \\sin{\\left(x \\right)} \\cos^{5}{\\left(x \\right)} \\sinh^{6}{\\left(y \\right)} + 30 \\sin{\\left(x \\right)} \\cos^{5}{\\left(x \\right)} \\sinh^{4}{\\left(y \\right)} \\cosh^{2}{\\left(y \\right)} + 0.146443994790164 \\sin{\\left(x \\right)} \\cos{\\left(x \\right)} \\sinh^{2}{\\left(y \\right)} + 0.146443994790164 \\sin{\\left(x \\right)} \\cos{\\left(x \\right)} \\cosh^{2}{\\left(y \\right)} & 6 \\sin^{6}{\\left(x \\right)} \\sinh{\\left(y \\right)} \\cosh^{5}{\\left(y \\right)} - 60 \\sin^{4}{\\left(x \\right)} \\cos^{2}{\\left(x \\right)} \\sinh^{3}{\\left(y \\right)} \\cosh^{3}{\\left(y \\right)} - 30 \\sin^{4}{\\left(x \\right)} \\cos^{2}{\\left(x \\right)} \\sinh{\\left(y \\right)} \\cosh^{5}{\\left(y \\right)} + 30 \\sin^{2}{\\left(x \\right)} \\cos^{4}{\\left(x \\right)} \\sinh^{5}{\\left(y \\right)} \\cosh{\\left(y \\right)} + 60 \\sin^{2}{\\left(x \\right)} \\cos^{4}{\\left(x \\right)} \\sinh^{3}{\\left(y \\right)} \\cosh^{3}{\\left(y \\right)} + 0.146443994790164 \\sin^{2}{\\left(x \\right)} \\sinh{\\left(y \\right)} \\cosh{\\left(y \\right)} - 6 \\cos^{6}{\\left(x \\right)} \\sinh^{5}{\\left(y \\right)} \\cosh{\\left(y \\right)} - 0.146443994790164 \\cos^{2}{\\left(x \\right)} \\sinh{\\left(y \\right)} \\cosh{\\left(y \\right)}\\\\- 6 \\sin^{6}{\\left(x \\right)} \\sinh{\\left(y \\right)} \\cosh^{5}{\\left(y \\right)} + 60 \\sin^{4}{\\left(x \\right)} \\cos^{2}{\\left(x \\right)} \\sinh^{3}{\\left(y \\right)} \\cosh^{3}{\\left(y \\right)} + 30 \\sin^{4}{\\left(x \\right)} \\cos^{2}{\\left(x \\right)} \\sinh{\\left(y \\right)} \\cosh^{5}{\\left(y \\right)} - 30 \\sin^{2}{\\left(x \\right)} \\cos^{4}{\\left(x \\right)} \\sinh^{5}{\\left(y \\right)} \\cosh{\\left(y \\right)} - 60 \\sin^{2}{\\left(x \\right)} \\cos^{4}{\\left(x \\right)} \\sinh^{3}{\\left(y \\right)} \\cosh^{3}{\\left(y \\right)} - 0.146443994790164 \\sin^{2}{\\left(x \\right)} \\sinh{\\left(y \\right)} \\cosh{\\left(y \\right)} + 6 \\cos^{6}{\\left(x \\right)} \\sinh^{5}{\\left(y \\right)} \\cosh{\\left(y \\right)} + 0.146443994790164 \\cos^{2}{\\left(x \\right)} \\sinh{\\left(y \\right)} \\cosh{\\left(y \\right)} & 30 \\sin^{5}{\\left(x \\right)} \\cos{\\left(x \\right)} \\sinh^{2}{\\left(y \\right)} \\cosh^{4}{\\left(y \\right)} + 6 \\sin^{5}{\\left(x \\right)} \\cos{\\left(x \\right)} \\cosh^{6}{\\left(y \\right)} - 60 \\sin^{3}{\\left(x \\right)} \\cos^{3}{\\left(x \\right)} \\sinh^{4}{\\left(y \\right)} \\cosh^{2}{\\left(y \\right)} - 60 \\sin^{3}{\\left(x \\right)} \\cos^{3}{\\left(x \\right)} \\sinh^{2}{\\left(y \\right)} \\cosh^{4}{\\left(y \\right)} + 6 \\sin{\\left(x \\right)} \\cos^{5}{\\left(x \\right)} \\sinh^{6}{\\left(y \\right)} + 30 \\sin{\\left(x \\right)} \\cos^{5}{\\left(x \\right)} \\sinh^{4}{\\left(y \\right)} \\cosh^{2}{\\left(y \\right)} + 0.146443994790164 \\sin{\\left(x \\right)} \\cos{\\left(x \\right)} \\sinh^{2}{\\left(y \\right)} + 0.146443994790164 \\sin{\\left(x \\right)} \\cos{\\left(x \\right)} \\cosh^{2}{\\left(y \\right)}\\end{matrix}\\right]$"
      ],
      "text/plain": [
       "Matrix([\n",
       "[     30*sin(x)**5*cos(x)*sinh(y)**2*cosh(y)**4 + 6*sin(x)**5*cos(x)*cosh(y)**6 - 60*sin(x)**3*cos(x)**3*sinh(y)**4*cosh(y)**2 - 60*sin(x)**3*cos(x)**3*sinh(y)**2*cosh(y)**4 + 6*sin(x)*cos(x)**5*sinh(y)**6 + 30*sin(x)*cos(x)**5*sinh(y)**4*cosh(y)**2 + 0.146443994790164*sin(x)*cos(x)*sinh(y)**2 + 0.146443994790164*sin(x)*cos(x)*cosh(y)**2, 6*sin(x)**6*sinh(y)*cosh(y)**5 - 60*sin(x)**4*cos(x)**2*sinh(y)**3*cosh(y)**3 - 30*sin(x)**4*cos(x)**2*sinh(y)*cosh(y)**5 + 30*sin(x)**2*cos(x)**4*sinh(y)**5*cosh(y) + 60*sin(x)**2*cos(x)**4*sinh(y)**3*cosh(y)**3 + 0.146443994790164*sin(x)**2*sinh(y)*cosh(y) - 6*cos(x)**6*sinh(y)**5*cosh(y) - 0.146443994790164*cos(x)**2*sinh(y)*cosh(y)],\n",
       "[-6*sin(x)**6*sinh(y)*cosh(y)**5 + 60*sin(x)**4*cos(x)**2*sinh(y)**3*cosh(y)**3 + 30*sin(x)**4*cos(x)**2*sinh(y)*cosh(y)**5 - 30*sin(x)**2*cos(x)**4*sinh(y)**5*cosh(y) - 60*sin(x)**2*cos(x)**4*sinh(y)**3*cosh(y)**3 - 0.146443994790164*sin(x)**2*sinh(y)*cosh(y) + 6*cos(x)**6*sinh(y)**5*cosh(y) + 0.146443994790164*cos(x)**2*sinh(y)*cosh(y),     30*sin(x)**5*cos(x)*sinh(y)**2*cosh(y)**4 + 6*sin(x)**5*cos(x)*cosh(y)**6 - 60*sin(x)**3*cos(x)**3*sinh(y)**4*cosh(y)**2 - 60*sin(x)**3*cos(x)**3*sinh(y)**2*cosh(y)**4 + 6*sin(x)*cos(x)**5*sinh(y)**6 + 30*sin(x)*cos(x)**5*sinh(y)**4*cosh(y)**2 + 0.146443994790164*sin(x)*cos(x)*sinh(y)**2 + 0.146443994790164*sin(x)*cos(x)*cosh(y)**2]])"
      ]
     },
     "execution_count": 37,
     "metadata": {},
     "output_type": "execute_result"
    }
   ],
   "source": [
    "J"
   ]
  },
  {
   "cell_type": "code",
   "execution_count": 38,
   "metadata": {},
   "outputs": [
    {
     "data": {
      "text/latex": [
       "$\\displaystyle \\left[\\begin{matrix}\\frac{\\frac{\\left(- 6 \\sin^{6}{\\left(x \\right)} \\sinh{\\left(y \\right)} \\cosh^{5}{\\left(y \\right)} + 60 \\sin^{4}{\\left(x \\right)} \\cos^{2}{\\left(x \\right)} \\sinh^{3}{\\left(y \\right)} \\cosh^{3}{\\left(y \\right)} + 30 \\sin^{4}{\\left(x \\right)} \\cos^{2}{\\left(x \\right)} \\sinh{\\left(y \\right)} \\cosh^{5}{\\left(y \\right)} - 30 \\sin^{2}{\\left(x \\right)} \\cos^{4}{\\left(x \\right)} \\sinh^{5}{\\left(y \\right)} \\cosh{\\left(y \\right)} - 60 \\sin^{2}{\\left(x \\right)} \\cos^{4}{\\left(x \\right)} \\sinh^{3}{\\left(y \\right)} \\cosh^{3}{\\left(y \\right)} - 0.146443994790164 \\sin^{2}{\\left(x \\right)} \\sinh{\\left(y \\right)} \\cosh{\\left(y \\right)} + 6 \\cos^{6}{\\left(x \\right)} \\sinh^{5}{\\left(y \\right)} \\cosh{\\left(y \\right)} + 0.146443994790164 \\cos^{2}{\\left(x \\right)} \\sinh{\\left(y \\right)} \\cosh{\\left(y \\right)}\\right) \\left(6 \\sin^{6}{\\left(x \\right)} \\sinh{\\left(y \\right)} \\cosh^{5}{\\left(y \\right)} - 60 \\sin^{4}{\\left(x \\right)} \\cos^{2}{\\left(x \\right)} \\sinh^{3}{\\left(y \\right)} \\cosh^{3}{\\left(y \\right)} - 30 \\sin^{4}{\\left(x \\right)} \\cos^{2}{\\left(x \\right)} \\sinh{\\left(y \\right)} \\cosh^{5}{\\left(y \\right)} + 30 \\sin^{2}{\\left(x \\right)} \\cos^{4}{\\left(x \\right)} \\sinh^{5}{\\left(y \\right)} \\cosh{\\left(y \\right)} + 60 \\sin^{2}{\\left(x \\right)} \\cos^{4}{\\left(x \\right)} \\sinh^{3}{\\left(y \\right)} \\cosh^{3}{\\left(y \\right)} + 0.146443994790164 \\sin^{2}{\\left(x \\right)} \\sinh{\\left(y \\right)} \\cosh{\\left(y \\right)} - 6 \\cos^{6}{\\left(x \\right)} \\sinh^{5}{\\left(y \\right)} \\cosh{\\left(y \\right)} - 0.146443994790164 \\cos^{2}{\\left(x \\right)} \\sinh{\\left(y \\right)} \\cosh{\\left(y \\right)}\\right)}{\\left(30 \\sin^{5}{\\left(x \\right)} \\cos{\\left(x \\right)} \\sinh^{2}{\\left(y \\right)} \\cosh^{4}{\\left(y \\right)} + 6 \\sin^{5}{\\left(x \\right)} \\cos{\\left(x \\right)} \\cosh^{6}{\\left(y \\right)} - 60 \\sin^{3}{\\left(x \\right)} \\cos^{3}{\\left(x \\right)} \\sinh^{4}{\\left(y \\right)} \\cosh^{2}{\\left(y \\right)} - 60 \\sin^{3}{\\left(x \\right)} \\cos^{3}{\\left(x \\right)} \\sinh^{2}{\\left(y \\right)} \\cosh^{4}{\\left(y \\right)} + 6 \\sin{\\left(x \\right)} \\cos^{5}{\\left(x \\right)} \\sinh^{6}{\\left(y \\right)} + 30 \\sin{\\left(x \\right)} \\cos^{5}{\\left(x \\right)} \\sinh^{4}{\\left(y \\right)} \\cosh^{2}{\\left(y \\right)} + 0.146443994790164 \\sin{\\left(x \\right)} \\cos{\\left(x \\right)} \\sinh^{2}{\\left(y \\right)} + 0.146443994790164 \\sin{\\left(x \\right)} \\cos{\\left(x \\right)} \\cosh^{2}{\\left(y \\right)}\\right) \\left(- \\frac{\\left(- 6 \\sin^{6}{\\left(x \\right)} \\sinh{\\left(y \\right)} \\cosh^{5}{\\left(y \\right)} + 60 \\sin^{4}{\\left(x \\right)} \\cos^{2}{\\left(x \\right)} \\sinh^{3}{\\left(y \\right)} \\cosh^{3}{\\left(y \\right)} + 30 \\sin^{4}{\\left(x \\right)} \\cos^{2}{\\left(x \\right)} \\sinh{\\left(y \\right)} \\cosh^{5}{\\left(y \\right)} - 30 \\sin^{2}{\\left(x \\right)} \\cos^{4}{\\left(x \\right)} \\sinh^{5}{\\left(y \\right)} \\cosh{\\left(y \\right)} - 60 \\sin^{2}{\\left(x \\right)} \\cos^{4}{\\left(x \\right)} \\sinh^{3}{\\left(y \\right)} \\cosh^{3}{\\left(y \\right)} - 0.146443994790164 \\sin^{2}{\\left(x \\right)} \\sinh{\\left(y \\right)} \\cosh{\\left(y \\right)} + 6 \\cos^{6}{\\left(x \\right)} \\sinh^{5}{\\left(y \\right)} \\cosh{\\left(y \\right)} + 0.146443994790164 \\cos^{2}{\\left(x \\right)} \\sinh{\\left(y \\right)} \\cosh{\\left(y \\right)}\\right) \\left(6 \\sin^{6}{\\left(x \\right)} \\sinh{\\left(y \\right)} \\cosh^{5}{\\left(y \\right)} - 60 \\sin^{4}{\\left(x \\right)} \\cos^{2}{\\left(x \\right)} \\sinh^{3}{\\left(y \\right)} \\cosh^{3}{\\left(y \\right)} - 30 \\sin^{4}{\\left(x \\right)} \\cos^{2}{\\left(x \\right)} \\sinh{\\left(y \\right)} \\cosh^{5}{\\left(y \\right)} + 30 \\sin^{2}{\\left(x \\right)} \\cos^{4}{\\left(x \\right)} \\sinh^{5}{\\left(y \\right)} \\cosh{\\left(y \\right)} + 60 \\sin^{2}{\\left(x \\right)} \\cos^{4}{\\left(x \\right)} \\sinh^{3}{\\left(y \\right)} \\cosh^{3}{\\left(y \\right)} + 0.146443994790164 \\sin^{2}{\\left(x \\right)} \\sinh{\\left(y \\right)} \\cosh{\\left(y \\right)} - 6 \\cos^{6}{\\left(x \\right)} \\sinh^{5}{\\left(y \\right)} \\cosh{\\left(y \\right)} - 0.146443994790164 \\cos^{2}{\\left(x \\right)} \\sinh{\\left(y \\right)} \\cosh{\\left(y \\right)}\\right)}{30 \\sin^{5}{\\left(x \\right)} \\cos{\\left(x \\right)} \\sinh^{2}{\\left(y \\right)} \\cosh^{4}{\\left(y \\right)} + 6 \\sin^{5}{\\left(x \\right)} \\cos{\\left(x \\right)} \\cosh^{6}{\\left(y \\right)} - 60 \\sin^{3}{\\left(x \\right)} \\cos^{3}{\\left(x \\right)} \\sinh^{4}{\\left(y \\right)} \\cosh^{2}{\\left(y \\right)} - 60 \\sin^{3}{\\left(x \\right)} \\cos^{3}{\\left(x \\right)} \\sinh^{2}{\\left(y \\right)} \\cosh^{4}{\\left(y \\right)} + 6 \\sin{\\left(x \\right)} \\cos^{5}{\\left(x \\right)} \\sinh^{6}{\\left(y \\right)} + 30 \\sin{\\left(x \\right)} \\cos^{5}{\\left(x \\right)} \\sinh^{4}{\\left(y \\right)} \\cosh^{2}{\\left(y \\right)} + 0.146443994790164 \\sin{\\left(x \\right)} \\cos{\\left(x \\right)} \\sinh^{2}{\\left(y \\right)} + 0.146443994790164 \\sin{\\left(x \\right)} \\cos{\\left(x \\right)} \\cosh^{2}{\\left(y \\right)}} + 30 \\sin^{5}{\\left(x \\right)} \\cos{\\left(x \\right)} \\sinh^{2}{\\left(y \\right)} \\cosh^{4}{\\left(y \\right)} + 6 \\sin^{5}{\\left(x \\right)} \\cos{\\left(x \\right)} \\cosh^{6}{\\left(y \\right)} - 60 \\sin^{3}{\\left(x \\right)} \\cos^{3}{\\left(x \\right)} \\sinh^{4}{\\left(y \\right)} \\cosh^{2}{\\left(y \\right)} - 60 \\sin^{3}{\\left(x \\right)} \\cos^{3}{\\left(x \\right)} \\sinh^{2}{\\left(y \\right)} \\cosh^{4}{\\left(y \\right)} + 6 \\sin{\\left(x \\right)} \\cos^{5}{\\left(x \\right)} \\sinh^{6}{\\left(y \\right)} + 30 \\sin{\\left(x \\right)} \\cos^{5}{\\left(x \\right)} \\sinh^{4}{\\left(y \\right)} \\cosh^{2}{\\left(y \\right)} + 0.146443994790164 \\sin{\\left(x \\right)} \\cos{\\left(x \\right)} \\sinh^{2}{\\left(y \\right)} + 0.146443994790164 \\sin{\\left(x \\right)} \\cos{\\left(x \\right)} \\cosh^{2}{\\left(y \\right)}\\right)} + 1}{30 \\sin^{5}{\\left(x \\right)} \\cos{\\left(x \\right)} \\sinh^{2}{\\left(y \\right)} \\cosh^{4}{\\left(y \\right)} + 6 \\sin^{5}{\\left(x \\right)} \\cos{\\left(x \\right)} \\cosh^{6}{\\left(y \\right)} - 60 \\sin^{3}{\\left(x \\right)} \\cos^{3}{\\left(x \\right)} \\sinh^{4}{\\left(y \\right)} \\cosh^{2}{\\left(y \\right)} - 60 \\sin^{3}{\\left(x \\right)} \\cos^{3}{\\left(x \\right)} \\sinh^{2}{\\left(y \\right)} \\cosh^{4}{\\left(y \\right)} + 6 \\sin{\\left(x \\right)} \\cos^{5}{\\left(x \\right)} \\sinh^{6}{\\left(y \\right)} + 30 \\sin{\\left(x \\right)} \\cos^{5}{\\left(x \\right)} \\sinh^{4}{\\left(y \\right)} \\cosh^{2}{\\left(y \\right)} + 0.146443994790164 \\sin{\\left(x \\right)} \\cos{\\left(x \\right)} \\sinh^{2}{\\left(y \\right)} + 0.146443994790164 \\sin{\\left(x \\right)} \\cos{\\left(x \\right)} \\cosh^{2}{\\left(y \\right)}} & - \\frac{6 \\sin^{6}{\\left(x \\right)} \\sinh{\\left(y \\right)} \\cosh^{5}{\\left(y \\right)} - 60 \\sin^{4}{\\left(x \\right)} \\cos^{2}{\\left(x \\right)} \\sinh^{3}{\\left(y \\right)} \\cosh^{3}{\\left(y \\right)} - 30 \\sin^{4}{\\left(x \\right)} \\cos^{2}{\\left(x \\right)} \\sinh{\\left(y \\right)} \\cosh^{5}{\\left(y \\right)} + 30 \\sin^{2}{\\left(x \\right)} \\cos^{4}{\\left(x \\right)} \\sinh^{5}{\\left(y \\right)} \\cosh{\\left(y \\right)} + 60 \\sin^{2}{\\left(x \\right)} \\cos^{4}{\\left(x \\right)} \\sinh^{3}{\\left(y \\right)} \\cosh^{3}{\\left(y \\right)} + 0.146443994790164 \\sin^{2}{\\left(x \\right)} \\sinh{\\left(y \\right)} \\cosh{\\left(y \\right)} - 6 \\cos^{6}{\\left(x \\right)} \\sinh^{5}{\\left(y \\right)} \\cosh{\\left(y \\right)} - 0.146443994790164 \\cos^{2}{\\left(x \\right)} \\sinh{\\left(y \\right)} \\cosh{\\left(y \\right)}}{\\left(30 \\sin^{5}{\\left(x \\right)} \\cos{\\left(x \\right)} \\sinh^{2}{\\left(y \\right)} \\cosh^{4}{\\left(y \\right)} + 6 \\sin^{5}{\\left(x \\right)} \\cos{\\left(x \\right)} \\cosh^{6}{\\left(y \\right)} - 60 \\sin^{3}{\\left(x \\right)} \\cos^{3}{\\left(x \\right)} \\sinh^{4}{\\left(y \\right)} \\cosh^{2}{\\left(y \\right)} - 60 \\sin^{3}{\\left(x \\right)} \\cos^{3}{\\left(x \\right)} \\sinh^{2}{\\left(y \\right)} \\cosh^{4}{\\left(y \\right)} + 6 \\sin{\\left(x \\right)} \\cos^{5}{\\left(x \\right)} \\sinh^{6}{\\left(y \\right)} + 30 \\sin{\\left(x \\right)} \\cos^{5}{\\left(x \\right)} \\sinh^{4}{\\left(y \\right)} \\cosh^{2}{\\left(y \\right)} + 0.146443994790164 \\sin{\\left(x \\right)} \\cos{\\left(x \\right)} \\sinh^{2}{\\left(y \\right)} + 0.146443994790164 \\sin{\\left(x \\right)} \\cos{\\left(x \\right)} \\cosh^{2}{\\left(y \\right)}\\right) \\left(- \\frac{\\left(- 6 \\sin^{6}{\\left(x \\right)} \\sinh{\\left(y \\right)} \\cosh^{5}{\\left(y \\right)} + 60 \\sin^{4}{\\left(x \\right)} \\cos^{2}{\\left(x \\right)} \\sinh^{3}{\\left(y \\right)} \\cosh^{3}{\\left(y \\right)} + 30 \\sin^{4}{\\left(x \\right)} \\cos^{2}{\\left(x \\right)} \\sinh{\\left(y \\right)} \\cosh^{5}{\\left(y \\right)} - 30 \\sin^{2}{\\left(x \\right)} \\cos^{4}{\\left(x \\right)} \\sinh^{5}{\\left(y \\right)} \\cosh{\\left(y \\right)} - 60 \\sin^{2}{\\left(x \\right)} \\cos^{4}{\\left(x \\right)} \\sinh^{3}{\\left(y \\right)} \\cosh^{3}{\\left(y \\right)} - 0.146443994790164 \\sin^{2}{\\left(x \\right)} \\sinh{\\left(y \\right)} \\cosh{\\left(y \\right)} + 6 \\cos^{6}{\\left(x \\right)} \\sinh^{5}{\\left(y \\right)} \\cosh{\\left(y \\right)} + 0.146443994790164 \\cos^{2}{\\left(x \\right)} \\sinh{\\left(y \\right)} \\cosh{\\left(y \\right)}\\right) \\left(6 \\sin^{6}{\\left(x \\right)} \\sinh{\\left(y \\right)} \\cosh^{5}{\\left(y \\right)} - 60 \\sin^{4}{\\left(x \\right)} \\cos^{2}{\\left(x \\right)} \\sinh^{3}{\\left(y \\right)} \\cosh^{3}{\\left(y \\right)} - 30 \\sin^{4}{\\left(x \\right)} \\cos^{2}{\\left(x \\right)} \\sinh{\\left(y \\right)} \\cosh^{5}{\\left(y \\right)} + 30 \\sin^{2}{\\left(x \\right)} \\cos^{4}{\\left(x \\right)} \\sinh^{5}{\\left(y \\right)} \\cosh{\\left(y \\right)} + 60 \\sin^{2}{\\left(x \\right)} \\cos^{4}{\\left(x \\right)} \\sinh^{3}{\\left(y \\right)} \\cosh^{3}{\\left(y \\right)} + 0.146443994790164 \\sin^{2}{\\left(x \\right)} \\sinh{\\left(y \\right)} \\cosh{\\left(y \\right)} - 6 \\cos^{6}{\\left(x \\right)} \\sinh^{5}{\\left(y \\right)} \\cosh{\\left(y \\right)} - 0.146443994790164 \\cos^{2}{\\left(x \\right)} \\sinh{\\left(y \\right)} \\cosh{\\left(y \\right)}\\right)}{30 \\sin^{5}{\\left(x \\right)} \\cos{\\left(x \\right)} \\sinh^{2}{\\left(y \\right)} \\cosh^{4}{\\left(y \\right)} + 6 \\sin^{5}{\\left(x \\right)} \\cos{\\left(x \\right)} \\cosh^{6}{\\left(y \\right)} - 60 \\sin^{3}{\\left(x \\right)} \\cos^{3}{\\left(x \\right)} \\sinh^{4}{\\left(y \\right)} \\cosh^{2}{\\left(y \\right)} - 60 \\sin^{3}{\\left(x \\right)} \\cos^{3}{\\left(x \\right)} \\sinh^{2}{\\left(y \\right)} \\cosh^{4}{\\left(y \\right)} + 6 \\sin{\\left(x \\right)} \\cos^{5}{\\left(x \\right)} \\sinh^{6}{\\left(y \\right)} + 30 \\sin{\\left(x \\right)} \\cos^{5}{\\left(x \\right)} \\sinh^{4}{\\left(y \\right)} \\cosh^{2}{\\left(y \\right)} + 0.146443994790164 \\sin{\\left(x \\right)} \\cos{\\left(x \\right)} \\sinh^{2}{\\left(y \\right)} + 0.146443994790164 \\sin{\\left(x \\right)} \\cos{\\left(x \\right)} \\cosh^{2}{\\left(y \\right)}} + 30 \\sin^{5}{\\left(x \\right)} \\cos{\\left(x \\right)} \\sinh^{2}{\\left(y \\right)} \\cosh^{4}{\\left(y \\right)} + 6 \\sin^{5}{\\left(x \\right)} \\cos{\\left(x \\right)} \\cosh^{6}{\\left(y \\right)} - 60 \\sin^{3}{\\left(x \\right)} \\cos^{3}{\\left(x \\right)} \\sinh^{4}{\\left(y \\right)} \\cosh^{2}{\\left(y \\right)} - 60 \\sin^{3}{\\left(x \\right)} \\cos^{3}{\\left(x \\right)} \\sinh^{2}{\\left(y \\right)} \\cosh^{4}{\\left(y \\right)} + 6 \\sin{\\left(x \\right)} \\cos^{5}{\\left(x \\right)} \\sinh^{6}{\\left(y \\right)} + 30 \\sin{\\left(x \\right)} \\cos^{5}{\\left(x \\right)} \\sinh^{4}{\\left(y \\right)} \\cosh^{2}{\\left(y \\right)} + 0.146443994790164 \\sin{\\left(x \\right)} \\cos{\\left(x \\right)} \\sinh^{2}{\\left(y \\right)} + 0.146443994790164 \\sin{\\left(x \\right)} \\cos{\\left(x \\right)} \\cosh^{2}{\\left(y \\right)}\\right)}\\\\- \\frac{- 6 \\sin^{6}{\\left(x \\right)} \\sinh{\\left(y \\right)} \\cosh^{5}{\\left(y \\right)} + 60 \\sin^{4}{\\left(x \\right)} \\cos^{2}{\\left(x \\right)} \\sinh^{3}{\\left(y \\right)} \\cosh^{3}{\\left(y \\right)} + 30 \\sin^{4}{\\left(x \\right)} \\cos^{2}{\\left(x \\right)} \\sinh{\\left(y \\right)} \\cosh^{5}{\\left(y \\right)} - 30 \\sin^{2}{\\left(x \\right)} \\cos^{4}{\\left(x \\right)} \\sinh^{5}{\\left(y \\right)} \\cosh{\\left(y \\right)} - 60 \\sin^{2}{\\left(x \\right)} \\cos^{4}{\\left(x \\right)} \\sinh^{3}{\\left(y \\right)} \\cosh^{3}{\\left(y \\right)} - 0.146443994790164 \\sin^{2}{\\left(x \\right)} \\sinh{\\left(y \\right)} \\cosh{\\left(y \\right)} + 6 \\cos^{6}{\\left(x \\right)} \\sinh^{5}{\\left(y \\right)} \\cosh{\\left(y \\right)} + 0.146443994790164 \\cos^{2}{\\left(x \\right)} \\sinh{\\left(y \\right)} \\cosh{\\left(y \\right)}}{\\left(30 \\sin^{5}{\\left(x \\right)} \\cos{\\left(x \\right)} \\sinh^{2}{\\left(y \\right)} \\cosh^{4}{\\left(y \\right)} + 6 \\sin^{5}{\\left(x \\right)} \\cos{\\left(x \\right)} \\cosh^{6}{\\left(y \\right)} - 60 \\sin^{3}{\\left(x \\right)} \\cos^{3}{\\left(x \\right)} \\sinh^{4}{\\left(y \\right)} \\cosh^{2}{\\left(y \\right)} - 60 \\sin^{3}{\\left(x \\right)} \\cos^{3}{\\left(x \\right)} \\sinh^{2}{\\left(y \\right)} \\cosh^{4}{\\left(y \\right)} + 6 \\sin{\\left(x \\right)} \\cos^{5}{\\left(x \\right)} \\sinh^{6}{\\left(y \\right)} + 30 \\sin{\\left(x \\right)} \\cos^{5}{\\left(x \\right)} \\sinh^{4}{\\left(y \\right)} \\cosh^{2}{\\left(y \\right)} + 0.146443994790164 \\sin{\\left(x \\right)} \\cos{\\left(x \\right)} \\sinh^{2}{\\left(y \\right)} + 0.146443994790164 \\sin{\\left(x \\right)} \\cos{\\left(x \\right)} \\cosh^{2}{\\left(y \\right)}\\right) \\left(- \\frac{\\left(- 6 \\sin^{6}{\\left(x \\right)} \\sinh{\\left(y \\right)} \\cosh^{5}{\\left(y \\right)} + 60 \\sin^{4}{\\left(x \\right)} \\cos^{2}{\\left(x \\right)} \\sinh^{3}{\\left(y \\right)} \\cosh^{3}{\\left(y \\right)} + 30 \\sin^{4}{\\left(x \\right)} \\cos^{2}{\\left(x \\right)} \\sinh{\\left(y \\right)} \\cosh^{5}{\\left(y \\right)} - 30 \\sin^{2}{\\left(x \\right)} \\cos^{4}{\\left(x \\right)} \\sinh^{5}{\\left(y \\right)} \\cosh{\\left(y \\right)} - 60 \\sin^{2}{\\left(x \\right)} \\cos^{4}{\\left(x \\right)} \\sinh^{3}{\\left(y \\right)} \\cosh^{3}{\\left(y \\right)} - 0.146443994790164 \\sin^{2}{\\left(x \\right)} \\sinh{\\left(y \\right)} \\cosh{\\left(y \\right)} + 6 \\cos^{6}{\\left(x \\right)} \\sinh^{5}{\\left(y \\right)} \\cosh{\\left(y \\right)} + 0.146443994790164 \\cos^{2}{\\left(x \\right)} \\sinh{\\left(y \\right)} \\cosh{\\left(y \\right)}\\right) \\left(6 \\sin^{6}{\\left(x \\right)} \\sinh{\\left(y \\right)} \\cosh^{5}{\\left(y \\right)} - 60 \\sin^{4}{\\left(x \\right)} \\cos^{2}{\\left(x \\right)} \\sinh^{3}{\\left(y \\right)} \\cosh^{3}{\\left(y \\right)} - 30 \\sin^{4}{\\left(x \\right)} \\cos^{2}{\\left(x \\right)} \\sinh{\\left(y \\right)} \\cosh^{5}{\\left(y \\right)} + 30 \\sin^{2}{\\left(x \\right)} \\cos^{4}{\\left(x \\right)} \\sinh^{5}{\\left(y \\right)} \\cosh{\\left(y \\right)} + 60 \\sin^{2}{\\left(x \\right)} \\cos^{4}{\\left(x \\right)} \\sinh^{3}{\\left(y \\right)} \\cosh^{3}{\\left(y \\right)} + 0.146443994790164 \\sin^{2}{\\left(x \\right)} \\sinh{\\left(y \\right)} \\cosh{\\left(y \\right)} - 6 \\cos^{6}{\\left(x \\right)} \\sinh^{5}{\\left(y \\right)} \\cosh{\\left(y \\right)} - 0.146443994790164 \\cos^{2}{\\left(x \\right)} \\sinh{\\left(y \\right)} \\cosh{\\left(y \\right)}\\right)}{30 \\sin^{5}{\\left(x \\right)} \\cos{\\left(x \\right)} \\sinh^{2}{\\left(y \\right)} \\cosh^{4}{\\left(y \\right)} + 6 \\sin^{5}{\\left(x \\right)} \\cos{\\left(x \\right)} \\cosh^{6}{\\left(y \\right)} - 60 \\sin^{3}{\\left(x \\right)} \\cos^{3}{\\left(x \\right)} \\sinh^{4}{\\left(y \\right)} \\cosh^{2}{\\left(y \\right)} - 60 \\sin^{3}{\\left(x \\right)} \\cos^{3}{\\left(x \\right)} \\sinh^{2}{\\left(y \\right)} \\cosh^{4}{\\left(y \\right)} + 6 \\sin{\\left(x \\right)} \\cos^{5}{\\left(x \\right)} \\sinh^{6}{\\left(y \\right)} + 30 \\sin{\\left(x \\right)} \\cos^{5}{\\left(x \\right)} \\sinh^{4}{\\left(y \\right)} \\cosh^{2}{\\left(y \\right)} + 0.146443994790164 \\sin{\\left(x \\right)} \\cos{\\left(x \\right)} \\sinh^{2}{\\left(y \\right)} + 0.146443994790164 \\sin{\\left(x \\right)} \\cos{\\left(x \\right)} \\cosh^{2}{\\left(y \\right)}} + 30 \\sin^{5}{\\left(x \\right)} \\cos{\\left(x \\right)} \\sinh^{2}{\\left(y \\right)} \\cosh^{4}{\\left(y \\right)} + 6 \\sin^{5}{\\left(x \\right)} \\cos{\\left(x \\right)} \\cosh^{6}{\\left(y \\right)} - 60 \\sin^{3}{\\left(x \\right)} \\cos^{3}{\\left(x \\right)} \\sinh^{4}{\\left(y \\right)} \\cosh^{2}{\\left(y \\right)} - 60 \\sin^{3}{\\left(x \\right)} \\cos^{3}{\\left(x \\right)} \\sinh^{2}{\\left(y \\right)} \\cosh^{4}{\\left(y \\right)} + 6 \\sin{\\left(x \\right)} \\cos^{5}{\\left(x \\right)} \\sinh^{6}{\\left(y \\right)} + 30 \\sin{\\left(x \\right)} \\cos^{5}{\\left(x \\right)} \\sinh^{4}{\\left(y \\right)} \\cosh^{2}{\\left(y \\right)} + 0.146443994790164 \\sin{\\left(x \\right)} \\cos{\\left(x \\right)} \\sinh^{2}{\\left(y \\right)} + 0.146443994790164 \\sin{\\left(x \\right)} \\cos{\\left(x \\right)} \\cosh^{2}{\\left(y \\right)}\\right)} & \\frac{1}{- \\frac{\\left(- 6 \\sin^{6}{\\left(x \\right)} \\sinh{\\left(y \\right)} \\cosh^{5}{\\left(y \\right)} + 60 \\sin^{4}{\\left(x \\right)} \\cos^{2}{\\left(x \\right)} \\sinh^{3}{\\left(y \\right)} \\cosh^{3}{\\left(y \\right)} + 30 \\sin^{4}{\\left(x \\right)} \\cos^{2}{\\left(x \\right)} \\sinh{\\left(y \\right)} \\cosh^{5}{\\left(y \\right)} - 30 \\sin^{2}{\\left(x \\right)} \\cos^{4}{\\left(x \\right)} \\sinh^{5}{\\left(y \\right)} \\cosh{\\left(y \\right)} - 60 \\sin^{2}{\\left(x \\right)} \\cos^{4}{\\left(x \\right)} \\sinh^{3}{\\left(y \\right)} \\cosh^{3}{\\left(y \\right)} - 0.146443994790164 \\sin^{2}{\\left(x \\right)} \\sinh{\\left(y \\right)} \\cosh{\\left(y \\right)} + 6 \\cos^{6}{\\left(x \\right)} \\sinh^{5}{\\left(y \\right)} \\cosh{\\left(y \\right)} + 0.146443994790164 \\cos^{2}{\\left(x \\right)} \\sinh{\\left(y \\right)} \\cosh{\\left(y \\right)}\\right) \\left(6 \\sin^{6}{\\left(x \\right)} \\sinh{\\left(y \\right)} \\cosh^{5}{\\left(y \\right)} - 60 \\sin^{4}{\\left(x \\right)} \\cos^{2}{\\left(x \\right)} \\sinh^{3}{\\left(y \\right)} \\cosh^{3}{\\left(y \\right)} - 30 \\sin^{4}{\\left(x \\right)} \\cos^{2}{\\left(x \\right)} \\sinh{\\left(y \\right)} \\cosh^{5}{\\left(y \\right)} + 30 \\sin^{2}{\\left(x \\right)} \\cos^{4}{\\left(x \\right)} \\sinh^{5}{\\left(y \\right)} \\cosh{\\left(y \\right)} + 60 \\sin^{2}{\\left(x \\right)} \\cos^{4}{\\left(x \\right)} \\sinh^{3}{\\left(y \\right)} \\cosh^{3}{\\left(y \\right)} + 0.146443994790164 \\sin^{2}{\\left(x \\right)} \\sinh{\\left(y \\right)} \\cosh{\\left(y \\right)} - 6 \\cos^{6}{\\left(x \\right)} \\sinh^{5}{\\left(y \\right)} \\cosh{\\left(y \\right)} - 0.146443994790164 \\cos^{2}{\\left(x \\right)} \\sinh{\\left(y \\right)} \\cosh{\\left(y \\right)}\\right)}{30 \\sin^{5}{\\left(x \\right)} \\cos{\\left(x \\right)} \\sinh^{2}{\\left(y \\right)} \\cosh^{4}{\\left(y \\right)} + 6 \\sin^{5}{\\left(x \\right)} \\cos{\\left(x \\right)} \\cosh^{6}{\\left(y \\right)} - 60 \\sin^{3}{\\left(x \\right)} \\cos^{3}{\\left(x \\right)} \\sinh^{4}{\\left(y \\right)} \\cosh^{2}{\\left(y \\right)} - 60 \\sin^{3}{\\left(x \\right)} \\cos^{3}{\\left(x \\right)} \\sinh^{2}{\\left(y \\right)} \\cosh^{4}{\\left(y \\right)} + 6 \\sin{\\left(x \\right)} \\cos^{5}{\\left(x \\right)} \\sinh^{6}{\\left(y \\right)} + 30 \\sin{\\left(x \\right)} \\cos^{5}{\\left(x \\right)} \\sinh^{4}{\\left(y \\right)} \\cosh^{2}{\\left(y \\right)} + 0.146443994790164 \\sin{\\left(x \\right)} \\cos{\\left(x \\right)} \\sinh^{2}{\\left(y \\right)} + 0.146443994790164 \\sin{\\left(x \\right)} \\cos{\\left(x \\right)} \\cosh^{2}{\\left(y \\right)}} + 30 \\sin^{5}{\\left(x \\right)} \\cos{\\left(x \\right)} \\sinh^{2}{\\left(y \\right)} \\cosh^{4}{\\left(y \\right)} + 6 \\sin^{5}{\\left(x \\right)} \\cos{\\left(x \\right)} \\cosh^{6}{\\left(y \\right)} - 60 \\sin^{3}{\\left(x \\right)} \\cos^{3}{\\left(x \\right)} \\sinh^{4}{\\left(y \\right)} \\cosh^{2}{\\left(y \\right)} - 60 \\sin^{3}{\\left(x \\right)} \\cos^{3}{\\left(x \\right)} \\sinh^{2}{\\left(y \\right)} \\cosh^{4}{\\left(y \\right)} + 6 \\sin{\\left(x \\right)} \\cos^{5}{\\left(x \\right)} \\sinh^{6}{\\left(y \\right)} + 30 \\sin{\\left(x \\right)} \\cos^{5}{\\left(x \\right)} \\sinh^{4}{\\left(y \\right)} \\cosh^{2}{\\left(y \\right)} + 0.146443994790164 \\sin{\\left(x \\right)} \\cos{\\left(x \\right)} \\sinh^{2}{\\left(y \\right)} + 0.146443994790164 \\sin{\\left(x \\right)} \\cos{\\left(x \\right)} \\cosh^{2}{\\left(y \\right)}}\\end{matrix}\\right]$"
      ],
      "text/plain": [
       "Matrix([\n",
       "[((-6*sin(x)**6*sinh(y)*cosh(y)**5 + 60*sin(x)**4*cos(x)**2*sinh(y)**3*cosh(y)**3 + 30*sin(x)**4*cos(x)**2*sinh(y)*cosh(y)**5 - 30*sin(x)**2*cos(x)**4*sinh(y)**5*cosh(y) - 60*sin(x)**2*cos(x)**4*sinh(y)**3*cosh(y)**3 - 0.146443994790164*sin(x)**2*sinh(y)*cosh(y) + 6*cos(x)**6*sinh(y)**5*cosh(y) + 0.146443994790164*cos(x)**2*sinh(y)*cosh(y))*(6*sin(x)**6*sinh(y)*cosh(y)**5 - 60*sin(x)**4*cos(x)**2*sinh(y)**3*cosh(y)**3 - 30*sin(x)**4*cos(x)**2*sinh(y)*cosh(y)**5 + 30*sin(x)**2*cos(x)**4*sinh(y)**5*cosh(y) + 60*sin(x)**2*cos(x)**4*sinh(y)**3*cosh(y)**3 + 0.146443994790164*sin(x)**2*sinh(y)*cosh(y) - 6*cos(x)**6*sinh(y)**5*cosh(y) - 0.146443994790164*cos(x)**2*sinh(y)*cosh(y))/((30*sin(x)**5*cos(x)*sinh(y)**2*cosh(y)**4 + 6*sin(x)**5*cos(x)*cosh(y)**6 - 60*sin(x)**3*cos(x)**3*sinh(y)**4*cosh(y)**2 - 60*sin(x)**3*cos(x)**3*sinh(y)**2*cosh(y)**4 + 6*sin(x)*cos(x)**5*sinh(y)**6 + 30*sin(x)*cos(x)**5*sinh(y)**4*cosh(y)**2 + 0.146443994790164*sin(x)*cos(x)*sinh(y)**2 + 0.146443994790164*sin(x)*cos(x)*cosh(y)**2)*(-(-6*sin(x)**6*sinh(y)*cosh(y)**5 + 60*sin(x)**4*cos(x)**2*sinh(y)**3*cosh(y)**3 + 30*sin(x)**4*cos(x)**2*sinh(y)*cosh(y)**5 - 30*sin(x)**2*cos(x)**4*sinh(y)**5*cosh(y) - 60*sin(x)**2*cos(x)**4*sinh(y)**3*cosh(y)**3 - 0.146443994790164*sin(x)**2*sinh(y)*cosh(y) + 6*cos(x)**6*sinh(y)**5*cosh(y) + 0.146443994790164*cos(x)**2*sinh(y)*cosh(y))*(6*sin(x)**6*sinh(y)*cosh(y)**5 - 60*sin(x)**4*cos(x)**2*sinh(y)**3*cosh(y)**3 - 30*sin(x)**4*cos(x)**2*sinh(y)*cosh(y)**5 + 30*sin(x)**2*cos(x)**4*sinh(y)**5*cosh(y) + 60*sin(x)**2*cos(x)**4*sinh(y)**3*cosh(y)**3 + 0.146443994790164*sin(x)**2*sinh(y)*cosh(y) - 6*cos(x)**6*sinh(y)**5*cosh(y) - 0.146443994790164*cos(x)**2*sinh(y)*cosh(y))/(30*sin(x)**5*cos(x)*sinh(y)**2*cosh(y)**4 + 6*sin(x)**5*cos(x)*cosh(y)**6 - 60*sin(x)**3*cos(x)**3*sinh(y)**4*cosh(y)**2 - 60*sin(x)**3*cos(x)**3*sinh(y)**2*cosh(y)**4 + 6*sin(x)*cos(x)**5*sinh(y)**6 + 30*sin(x)*cos(x)**5*sinh(y)**4*cosh(y)**2 + 0.146443994790164*sin(x)*cos(x)*sinh(y)**2 + 0.146443994790164*sin(x)*cos(x)*cosh(y)**2) + 30*sin(x)**5*cos(x)*sinh(y)**2*cosh(y)**4 + 6*sin(x)**5*cos(x)*cosh(y)**6 - 60*sin(x)**3*cos(x)**3*sinh(y)**4*cosh(y)**2 - 60*sin(x)**3*cos(x)**3*sinh(y)**2*cosh(y)**4 + 6*sin(x)*cos(x)**5*sinh(y)**6 + 30*sin(x)*cos(x)**5*sinh(y)**4*cosh(y)**2 + 0.146443994790164*sin(x)*cos(x)*sinh(y)**2 + 0.146443994790164*sin(x)*cos(x)*cosh(y)**2)) + 1)/(30*sin(x)**5*cos(x)*sinh(y)**2*cosh(y)**4 + 6*sin(x)**5*cos(x)*cosh(y)**6 - 60*sin(x)**3*cos(x)**3*sinh(y)**4*cosh(y)**2 - 60*sin(x)**3*cos(x)**3*sinh(y)**2*cosh(y)**4 + 6*sin(x)*cos(x)**5*sinh(y)**6 + 30*sin(x)*cos(x)**5*sinh(y)**4*cosh(y)**2 + 0.146443994790164*sin(x)*cos(x)*sinh(y)**2 + 0.146443994790164*sin(x)*cos(x)*cosh(y)**2), -(6*sin(x)**6*sinh(y)*cosh(y)**5 - 60*sin(x)**4*cos(x)**2*sinh(y)**3*cosh(y)**3 - 30*sin(x)**4*cos(x)**2*sinh(y)*cosh(y)**5 + 30*sin(x)**2*cos(x)**4*sinh(y)**5*cosh(y) + 60*sin(x)**2*cos(x)**4*sinh(y)**3*cosh(y)**3 + 0.146443994790164*sin(x)**2*sinh(y)*cosh(y) - 6*cos(x)**6*sinh(y)**5*cosh(y) - 0.146443994790164*cos(x)**2*sinh(y)*cosh(y))/((30*sin(x)**5*cos(x)*sinh(y)**2*cosh(y)**4 + 6*sin(x)**5*cos(x)*cosh(y)**6 - 60*sin(x)**3*cos(x)**3*sinh(y)**4*cosh(y)**2 - 60*sin(x)**3*cos(x)**3*sinh(y)**2*cosh(y)**4 + 6*sin(x)*cos(x)**5*sinh(y)**6 + 30*sin(x)*cos(x)**5*sinh(y)**4*cosh(y)**2 + 0.146443994790164*sin(x)*cos(x)*sinh(y)**2 + 0.146443994790164*sin(x)*cos(x)*cosh(y)**2)*(-(-6*sin(x)**6*sinh(y)*cosh(y)**5 + 60*sin(x)**4*cos(x)**2*sinh(y)**3*cosh(y)**3 + 30*sin(x)**4*cos(x)**2*sinh(y)*cosh(y)**5 - 30*sin(x)**2*cos(x)**4*sinh(y)**5*cosh(y) - 60*sin(x)**2*cos(x)**4*sinh(y)**3*cosh(y)**3 - 0.146443994790164*sin(x)**2*sinh(y)*cosh(y) + 6*cos(x)**6*sinh(y)**5*cosh(y) + 0.146443994790164*cos(x)**2*sinh(y)*cosh(y))*(6*sin(x)**6*sinh(y)*cosh(y)**5 - 60*sin(x)**4*cos(x)**2*sinh(y)**3*cosh(y)**3 - 30*sin(x)**4*cos(x)**2*sinh(y)*cosh(y)**5 + 30*sin(x)**2*cos(x)**4*sinh(y)**5*cosh(y) + 60*sin(x)**2*cos(x)**4*sinh(y)**3*cosh(y)**3 + 0.146443994790164*sin(x)**2*sinh(y)*cosh(y) - 6*cos(x)**6*sinh(y)**5*cosh(y) - 0.146443994790164*cos(x)**2*sinh(y)*cosh(y))/(30*sin(x)**5*cos(x)*sinh(y)**2*cosh(y)**4 + 6*sin(x)**5*cos(x)*cosh(y)**6 - 60*sin(x)**3*cos(x)**3*sinh(y)**4*cosh(y)**2 - 60*sin(x)**3*cos(x)**3*sinh(y)**2*cosh(y)**4 + 6*sin(x)*cos(x)**5*sinh(y)**6 + 30*sin(x)*cos(x)**5*sinh(y)**4*cosh(y)**2 + 0.146443994790164*sin(x)*cos(x)*sinh(y)**2 + 0.146443994790164*sin(x)*cos(x)*cosh(y)**2) + 30*sin(x)**5*cos(x)*sinh(y)**2*cosh(y)**4 + 6*sin(x)**5*cos(x)*cosh(y)**6 - 60*sin(x)**3*cos(x)**3*sinh(y)**4*cosh(y)**2 - 60*sin(x)**3*cos(x)**3*sinh(y)**2*cosh(y)**4 + 6*sin(x)*cos(x)**5*sinh(y)**6 + 30*sin(x)*cos(x)**5*sinh(y)**4*cosh(y)**2 + 0.146443994790164*sin(x)*cos(x)*sinh(y)**2 + 0.146443994790164*sin(x)*cos(x)*cosh(y)**2))],\n",
       "[                                                                                                                                                                                                                                                                                                                                                                                                                                                                                                                                                                                                                                                                                                         -(-6*sin(x)**6*sinh(y)*cosh(y)**5 + 60*sin(x)**4*cos(x)**2*sinh(y)**3*cosh(y)**3 + 30*sin(x)**4*cos(x)**2*sinh(y)*cosh(y)**5 - 30*sin(x)**2*cos(x)**4*sinh(y)**5*cosh(y) - 60*sin(x)**2*cos(x)**4*sinh(y)**3*cosh(y)**3 - 0.146443994790164*sin(x)**2*sinh(y)*cosh(y) + 6*cos(x)**6*sinh(y)**5*cosh(y) + 0.146443994790164*cos(x)**2*sinh(y)*cosh(y))/((30*sin(x)**5*cos(x)*sinh(y)**2*cosh(y)**4 + 6*sin(x)**5*cos(x)*cosh(y)**6 - 60*sin(x)**3*cos(x)**3*sinh(y)**4*cosh(y)**2 - 60*sin(x)**3*cos(x)**3*sinh(y)**2*cosh(y)**4 + 6*sin(x)*cos(x)**5*sinh(y)**6 + 30*sin(x)*cos(x)**5*sinh(y)**4*cosh(y)**2 + 0.146443994790164*sin(x)*cos(x)*sinh(y)**2 + 0.146443994790164*sin(x)*cos(x)*cosh(y)**2)*(-(-6*sin(x)**6*sinh(y)*cosh(y)**5 + 60*sin(x)**4*cos(x)**2*sinh(y)**3*cosh(y)**3 + 30*sin(x)**4*cos(x)**2*sinh(y)*cosh(y)**5 - 30*sin(x)**2*cos(x)**4*sinh(y)**5*cosh(y) - 60*sin(x)**2*cos(x)**4*sinh(y)**3*cosh(y)**3 - 0.146443994790164*sin(x)**2*sinh(y)*cosh(y) + 6*cos(x)**6*sinh(y)**5*cosh(y) + 0.146443994790164*cos(x)**2*sinh(y)*cosh(y))*(6*sin(x)**6*sinh(y)*cosh(y)**5 - 60*sin(x)**4*cos(x)**2*sinh(y)**3*cosh(y)**3 - 30*sin(x)**4*cos(x)**2*sinh(y)*cosh(y)**5 + 30*sin(x)**2*cos(x)**4*sinh(y)**5*cosh(y) + 60*sin(x)**2*cos(x)**4*sinh(y)**3*cosh(y)**3 + 0.146443994790164*sin(x)**2*sinh(y)*cosh(y) - 6*cos(x)**6*sinh(y)**5*cosh(y) - 0.146443994790164*cos(x)**2*sinh(y)*cosh(y))/(30*sin(x)**5*cos(x)*sinh(y)**2*cosh(y)**4 + 6*sin(x)**5*cos(x)*cosh(y)**6 - 60*sin(x)**3*cos(x)**3*sinh(y)**4*cosh(y)**2 - 60*sin(x)**3*cos(x)**3*sinh(y)**2*cosh(y)**4 + 6*sin(x)*cos(x)**5*sinh(y)**6 + 30*sin(x)*cos(x)**5*sinh(y)**4*cosh(y)**2 + 0.146443994790164*sin(x)*cos(x)*sinh(y)**2 + 0.146443994790164*sin(x)*cos(x)*cosh(y)**2) + 30*sin(x)**5*cos(x)*sinh(y)**2*cosh(y)**4 + 6*sin(x)**5*cos(x)*cosh(y)**6 - 60*sin(x)**3*cos(x)**3*sinh(y)**4*cosh(y)**2 - 60*sin(x)**3*cos(x)**3*sinh(y)**2*cosh(y)**4 + 6*sin(x)*cos(x)**5*sinh(y)**6 + 30*sin(x)*cos(x)**5*sinh(y)**4*cosh(y)**2 + 0.146443994790164*sin(x)*cos(x)*sinh(y)**2 + 0.146443994790164*sin(x)*cos(x)*cosh(y)**2)),                                                                                                                                                                                                                                                                                                                                                                                                                                                                                                                                                                                                                                                                                                      1/(-(-6*sin(x)**6*sinh(y)*cosh(y)**5 + 60*sin(x)**4*cos(x)**2*sinh(y)**3*cosh(y)**3 + 30*sin(x)**4*cos(x)**2*sinh(y)*cosh(y)**5 - 30*sin(x)**2*cos(x)**4*sinh(y)**5*cosh(y) - 60*sin(x)**2*cos(x)**4*sinh(y)**3*cosh(y)**3 - 0.146443994790164*sin(x)**2*sinh(y)*cosh(y) + 6*cos(x)**6*sinh(y)**5*cosh(y) + 0.146443994790164*cos(x)**2*sinh(y)*cosh(y))*(6*sin(x)**6*sinh(y)*cosh(y)**5 - 60*sin(x)**4*cos(x)**2*sinh(y)**3*cosh(y)**3 - 30*sin(x)**4*cos(x)**2*sinh(y)*cosh(y)**5 + 30*sin(x)**2*cos(x)**4*sinh(y)**5*cosh(y) + 60*sin(x)**2*cos(x)**4*sinh(y)**3*cosh(y)**3 + 0.146443994790164*sin(x)**2*sinh(y)*cosh(y) - 6*cos(x)**6*sinh(y)**5*cosh(y) - 0.146443994790164*cos(x)**2*sinh(y)*cosh(y))/(30*sin(x)**5*cos(x)*sinh(y)**2*cosh(y)**4 + 6*sin(x)**5*cos(x)*cosh(y)**6 - 60*sin(x)**3*cos(x)**3*sinh(y)**4*cosh(y)**2 - 60*sin(x)**3*cos(x)**3*sinh(y)**2*cosh(y)**4 + 6*sin(x)*cos(x)**5*sinh(y)**6 + 30*sin(x)*cos(x)**5*sinh(y)**4*cosh(y)**2 + 0.146443994790164*sin(x)*cos(x)*sinh(y)**2 + 0.146443994790164*sin(x)*cos(x)*cosh(y)**2) + 30*sin(x)**5*cos(x)*sinh(y)**2*cosh(y)**4 + 6*sin(x)**5*cos(x)*cosh(y)**6 - 60*sin(x)**3*cos(x)**3*sinh(y)**4*cosh(y)**2 - 60*sin(x)**3*cos(x)**3*sinh(y)**2*cosh(y)**4 + 6*sin(x)*cos(x)**5*sinh(y)**6 + 30*sin(x)*cos(x)**5*sinh(y)**4*cosh(y)**2 + 0.146443994790164*sin(x)*cos(x)*sinh(y)**2 + 0.146443994790164*sin(x)*cos(x)*cosh(y)**2)]])"
      ]
     },
     "execution_count": 38,
     "metadata": {},
     "output_type": "execute_result"
    }
   ],
   "source": [
    "InvJ = J.inv(method='LU')\n",
    "InvJ"
   ]
  },
  {
   "cell_type": "code",
   "execution_count": 39,
   "metadata": {},
   "outputs": [],
   "source": [
    "Fn = sym.lambdify([x,y],F,'numpy')\n",
    "IJn = sym.lambdify([x,y],InvJ,'numpy')"
   ]
  },
  {
   "cell_type": "code",
   "execution_count": 40,
   "metadata": {},
   "outputs": [],
   "source": [
    "def NewtonRaphson(z,Fn,Jn,itmax=100,precision=1e-20):\n",
    "    \n",
    "    error = 1\n",
    "    it = 0\n",
    "    \n",
    "    while error > precision and it < itmax:\n",
    "        \n",
    "        IFn = Fn(z[0],z[1])\n",
    "        IJn = Jn(z[0],z[1])\n",
    "        \n",
    "        z1 = z - np.dot(IJn,IFn)\n",
    "        \n",
    "        error = np.max( np.abs(z1-z) )\n",
    "        \n",
    "        z = z1\n",
    "        it +=1\n",
    "        \n",
    "    #print(it)\n",
    "    return z"
   ]
  },
  {
   "cell_type": "code",
   "execution_count": 41,
   "metadata": {},
   "outputs": [
    {
     "name": "stdout",
     "output_type": "stream",
     "text": [
      "[(-3.46358, -0.56203), (-3.46358, 0.56203), (-2.81961, -0.56203), (-2.81961, 0.56203), (-2.49763, 0.0), (-0.64397, -0.0), (-0.32198, -0.56203), (-0.32198, 0.56203), (0.32198, -0.56203), (0.32198, 0.56203), (0.64397, -0.0), (2.49763, -0.0), (2.81961, -0.56203), (2.81961, 0.56203), (3.46358, -0.56203), (3.46358, 0.56203)]\n"
     ]
    }
   ],
   "source": [
    "\n",
    "x_range = np.linspace(-3.5, 3.5, 10)\n",
    "y_range = np.linspace(-3, 3, 8)\n",
    "\n",
    "roots = []\n",
    "roots_reals = []\n",
    "for x_val in x_range:\n",
    "    for y_val in y_range:\n",
    "        z0 = np.array([x_val, y_val])\n",
    "        zsol = NewtonRaphson(z0, Fn, IJn)\n",
    "        zsol =  np.round(zsol,5)\n",
    "        roots.append(zsol)\n",
    "\n",
    "unique_roots = [tuple(root) for root in np.unique(roots, axis=0)]\n",
    "\n",
    "\n",
    "\n",
    "for roots in unique_roots:\n",
    "    \n",
    "    if roots[1]==0.0 or roots[1]==-0.0:\n",
    "        roots_reals.append(roots[0])\n",
    "      \n",
    "        \n",
    "        \n",
    "\n",
    "    \n",
    "    \n",
    "   \n",
    "\n",
    "\n"
   ]
  },
  {
   "cell_type": "code",
   "execution_count": 44,
   "metadata": {},
   "outputs": [
    {
     "name": "stdout",
     "output_type": "stream",
     "text": [
      "nan\n",
      "-40.08849346775175\n",
      "40.08849346775175\n",
      "nan\n"
     ]
    },
    {
     "name": "stderr",
     "output_type": "stream",
     "text": [
      "C:\\Users\\gaboe\\AppData\\Local\\Temp\\ipykernel_8060\\1827268487.py:4: RuntimeWarning: invalid value encountered in arcsin\n",
      "  angulo=np.arcsin(teta)\n"
     ]
    }
   ],
   "source": [
    "#Si me piden con z, utilizo este código:\n",
    "\n",
    "# for teta in roots_reals:\n",
    "#     angulo=np.arcsin(teta)\n",
    "#     print(angulo*(180/np.pi))\n",
    "\n"
   ]
  },
  {
   "cell_type": "code",
   "execution_count": 45,
   "metadata": {},
   "outputs": [
    {
     "name": "stdout",
     "output_type": "stream",
     "text": [
      "-143.1036577852598\n",
      "-36.89676313303963\n",
      "36.89676313303963\n",
      "143.1036577852598\n"
     ]
    }
   ],
   "source": [
    "# Si me piden con senos, utilizo este \n",
    "        \n",
    "for angulo_rad in roots_reals:\n",
    "    angulo_grad=angulo_rad*(180/np.pi)\n",
    "    print(angulo_grad)\n"
   ]
  }
 ],
 "metadata": {
  "kernelspec": {
   "display_name": "base",
   "language": "python",
   "name": "python3"
  },
  "language_info": {
   "codemirror_mode": {
    "name": "ipython",
    "version": 3
   },
   "file_extension": ".py",
   "mimetype": "text/x-python",
   "name": "python",
   "nbconvert_exporter": "python",
   "pygments_lexer": "ipython3",
   "version": "3.11.4"
  }
 },
 "nbformat": 4,
 "nbformat_minor": 2
}
